{
  "nbformat": 4,
  "nbformat_minor": 0,
  "metadata": {
    "colab": {
      "provenance": [],
      "collapsed_sections": [],
      "authorship_tag": "ABX9TyPvg8YWe8836jAO37Cy20EC",
      "include_colab_link": true
    },
    "kernelspec": {
      "name": "python3",
      "display_name": "Python 3"
    },
    "language_info": {
      "name": "python"
    }
  },
  "cells": [
    {
      "cell_type": "markdown",
      "metadata": {
        "id": "view-in-github",
        "colab_type": "text"
      },
      "source": [
        "<a href=\"https://colab.research.google.com/github/Jcnok/digitalinnovationone/blob/main/Desafios_Intermedi%C3%A1rios_Py_Unimed_BH.ipynb\" target=\"_parent\"><img src=\"https://colab.research.google.com/assets/colab-badge.svg\" alt=\"Open In Colab\"/></a>"
      ]
    },
    {
      "cell_type": "markdown",
      "source": [
        "# Desafios Intermediário PY - Unimed-BH\n",
        "\n",
        "* Dada a letra N do alfabeto, nos diga qual a sua posição.\n",
        "\n",
        "* Entrada: \n",
        "  * Um único caracter N, uma letra maiúscula ('A'-'Z') do alfabeto (que contém 26 letras).\n",
        "\n",
        "* Saída:\n",
        "  * Um único inteiro, que representa a posição da letra no alfabeto.\n",
        "\n",
        " \n",
        "Exemplo de Entrada | Exemplo de Saída\n",
        ":-----------------:|:------------------:\n",
        "C | 3\n",
        "J | 10\n",
        "Z | 26                         \n",
        "A |\t1        "
      ],
      "metadata": {
        "id": "u3_u3j8tdwe_"
      }
    },
    {
      "cell_type": "code",
      "source": [
        "letra = input()\n",
        "result = ord(letra) - ord('A')+1\n",
        "print(result)"
      ],
      "metadata": {
        "colab": {
          "base_uri": "https://localhost:8080/"
        },
        "id": "wJDIU9__b6oY",
        "outputId": "d0294b2c-198d-49a9-ff1e-20ace58bfcc6"
      },
      "execution_count": 112,
      "outputs": [
        {
          "output_type": "stream",
          "name": "stdout",
          "text": [
            "3\n"
          ]
        }
      ]
    },
    {
      "cell_type": "code",
      "source": [],
      "metadata": {
        "id": "5554tXprd0AX"
      },
      "execution_count": null,
      "outputs": []
    },
    {
      "cell_type": "markdown",
      "source": [
        "# Desafio 2:\n",
        "\n",
        "* Humberto tem um papagaio muito esperto. Quando está com as duas pernas no chão, o papagaio fala em português. Quando levanta a perna esquerda, fala em inglês. Por fim, quando levanta a direita fala em francês. Nico, amigo de Humberto, ficou fascinado com o animal. Em sua emoção perguntou: “E quando ele levanta as duas?”. Antes que Humberto pudesse responder, o papagaio gritou: “Aí eu caio, idiota!”.\n",
        "\n",
        "* Entrada:\n",
        "  * A entrada consiste de diversos casos de teste. Cada caso de teste consiste uma string informando qual a situação de levantamento de pernas do papagaio.\n",
        "\n",
        "* Saída:\n",
        "  * Para cada condição de levantamento de pernas do papagaio, imprima a linguagem que ele utilizará. Caso ele levante ambas as pernas, imprima “caiu”. Quebre uma linha a cada caso de teste.\n",
        "\n",
        " \n",
        "Exemplo de Entrada | Exemplo de Saída\n",
        ":-----------------:|:----------------:\n",
        "esquerda | ingles\n",
        "direita  | frances\n",
        "nenhuma  | portugues\n",
        "ambas    | caiu"
      ],
      "metadata": {
        "id": "pBbP1195d0V-"
      }
    },
    {
      "cell_type": "code",
      "source": [
        "# DICAS SOBRE PYTHON:\n",
        "# FUNÇÃO input(): Ela recebe como parâmetro uma String que será visível ao usuário, \n",
        "# onde geralmente informa que tipo de informação ele está esperando receber;\n",
        "# FUNÇÃO print(): Ela é a responsável por imprimir os dados e informar os valores no terminal;\n",
        "# MÉTODO split(): permite dividir o conteúdo da variável de acordo com as condições especificadas \n",
        "# em cada parâmetro da função ou com os valores predefinidos por padrão;\n",
        "# while True significa que, enquanto houver entradas, o código após o try continuará sendo executado\n",
        "while True: \n",
        "    try: \n",
        "           perna = input()\n",
        "           if perna == \"esquerda\":\n",
        "             print(\"ingles\")\n",
        "           elif perna == \"direita\":\n",
        "             print(\"frances\")\n",
        "           elif perna == \"nenhuma\":\n",
        "             print(\"portugues\")\n",
        "           elif perna == \"ambas\":\n",
        "             print(\"caiu\")\n",
        "           else:\n",
        "             break\n",
        "    except EOFError: \n",
        "        break"
      ],
      "metadata": {
        "colab": {
          "base_uri": "https://localhost:8080/"
        },
        "id": "sm-1wu3qedCH",
        "outputId": "dadfbe7b-c96b-475d-da17-80f317f6ef1a"
      },
      "execution_count": 159,
      "outputs": [
        {
          "name": "stdout",
          "output_type": "stream",
          "text": [
            "esquerda\n",
            "ingles\n",
            "direita\n",
            "frances\n",
            "nenhuma\n",
            "portugues\n",
            "ambas\n",
            "caiu\n",
            "\n"
          ]
        }
      ]
    },
    {
      "cell_type": "markdown",
      "source": [
        "# Desafio 3:\n",
        "\n",
        "* A empresa que você trabalha resolveu conceder um aumento salarial a todos funcionários, de acordo com a tabela abaixo:\n",
        "\n",
        "Salário               |\tPercentual de Reajuste\n",
        ":--------------------:|:---------------------:\n",
        "0 - 600.00            |  17%\n",
        "600.01 - 900.00       |  13%\n",
        "900.01 - 1500.00      |  12%\n",
        "1500.01 - 2000.00     |  10%\n",
        "Acima de 2000.00      |  5%\n",
        "\n",
        "\n",
        "* *Leia o salário do funcionário e calcule e mostre o novo salário, bem como o valor de reajuste ganho e o índice reajustado, em percentual.*\n",
        "\n",
        "* *A entrada contém apenas um valor de ponto flutuante, que pode ser maior ou igual a zero, com duas casas decimais, conforme exemplos abaixo.*\n",
        "\n",
        "* Exemplo 1:\n",
        "\n",
        "Entrada\t            |                  Saída\n",
        ":------------------:|:-------------------------------:\n",
        "     1000           | Novo salario: 1120.00 \n",
        "                    | Reajuste ganho: 120.00\n",
        "                    | Em percentual:  12 %\n",
        " \n",
        "\n",
        " * Exemplo 2:\n",
        "\n",
        "Entrada\t            |                  Saída\n",
        ":------------------:|:-------------------------------:\n",
        "2000                |\tNovo salario: 2200.00              \n",
        "                    | Reajuste ganho: 200.00                  \n",
        "                    | Em percentual: 10 %"
      ],
      "metadata": {
        "id": "PWom83xkgKho"
      }
    },
    {
      "cell_type": "code",
      "source": [
        "# DICAS SOBRE PYTHON:\n",
        "# FUNÇÃO input(): Ela recebe como parâmetro uma String que será visível ao usuário, \n",
        "# onde geralmente informa que tipo de informação ele está esperando receber;\n",
        "# FUNÇÃO print(): Ela é a responsável por imprimir os dados e informar os valores no terminal;\n",
        "# MÉTODO split(): permite dividir o conteúdo da variável de acordo com as condições especificadas \n",
        "# em cada parâmetro da função ou com os valores predefinidos por padrão;\n",
        "\n",
        "# Abaixo segue um exemplo de código que você pode ou não utilizar\n",
        "salario = int(input()) \n",
        "if (salario > 0) and (salario <= 600):\n",
        "  Percentual   = 17\n",
        "  Novo_Salario = salario * (1 + Percentual / 100) \n",
        "  Reajuste     = salario * (Percentual / 100)   \n",
        "elif (salario <=900):\n",
        "  Percentual   = 13\n",
        "  Novo_Salario = salario * (1 + Percentual / 100) \n",
        "  Reajuste     = salario * (Percentual / 100)\n",
        "elif (salario <=1500):\n",
        "  Percentual   = 12\n",
        "  Novo_Salario = salario * (1 + Percentual / 100) \n",
        "  Reajuste     = salario * (Percentual / 100)\n",
        "elif (salario <=2000):\n",
        "  Percentual   = 10\n",
        "  Novo_Salario = salario * (1 + Percentual / 100) \n",
        "  Reajuste     = salario * (Percentual / 100) \n",
        "else: \n",
        "  Percentual   = 5\n",
        "  Novo_Salario = salario * (1 + Percentual / 100) \n",
        "  Reajuste     = salario * (Percentual / 100)\n",
        "\n",
        "print(f\" Novo salario: {Novo_Salario:2.2f}\\n Reajuste ganho: {Reajuste:2.2f}\\n Em percentual: {Percentual} %\") \n",
        "\n",
        "\n",
        "# TODO:  Calcule o salário do funcionário e print o novo salário, bem como o valor de reajuste ganho e o índice reajustado (em porcentagem)"
      ],
      "metadata": {
        "colab": {
          "base_uri": "https://localhost:8080/"
        },
        "id": "8BV-erK0gTzv",
        "outputId": "8325813b-94bf-4c7a-e87a-23a00c4ab8f0"
      },
      "execution_count": 158,
      "outputs": [
        {
          "output_type": "stream",
          "name": "stdout",
          "text": [
            "1000\n",
            " Novo salario: 1120.00\n",
            " Reajuste ganho: 120.00\n",
            " Em percentual: 12 %\n"
          ]
        }
      ]
    }
  ]
}