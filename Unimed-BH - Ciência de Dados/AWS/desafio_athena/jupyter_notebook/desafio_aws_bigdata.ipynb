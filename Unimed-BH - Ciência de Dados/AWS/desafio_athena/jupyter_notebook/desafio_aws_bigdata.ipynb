{
 "cells": [
  {
   "cell_type": "markdown",
   "id": "ed72ac4c",
   "metadata": {},
   "source": [
    "# Desafio - Explorando Dados Demográficos com Serviços de Big Data na AWS"
   ]
  },
  {
   "cell_type": "markdown",
   "id": "3f278e9c",
   "metadata": {},
   "source": [
    "<img src=\"https://github.com/Jcnok/digitalinnovationone/blob/main/Unimed-BH%20-%20Ci%C3%AAncia%20de%20Dados/AWS/desafio_athena/Diagrama_QuickSight.png?raw=true\" alt=\"drawing\" width=\"800\" heigth=\"300\"/>"
   ]
  },
  {
   "cell_type": "markdown",
   "id": "bb3ca24a",
   "metadata": {},
   "source": [
    "- **Este projeto faz parte da trilha “Unimed-BH-Ciência de dados” disponibilizada pela [DIO](https://www.dio.me/).**\n",
    "- **O Desafio segue as etapas de configuração de acesso aos serviços, utilização da SDK boto3 para acesso via linguagem python pelo Jupyter notebook, onde irei realizar o processo de criação de um bucket s3 para armazenar o conjunto de dados \"brazil_population_2019.csv\" e enviar os resultados das consultas sql que serão realizadas futuramente pelo athena.**\n",
    "- **Os dados serão extraídos do bucket pelo serviço do Glue onde será realizado o crawler que irá gerar de forma automática o catálogo, schema e tabela do banco de dados.**\n",
    "- **A próxima etapa será acessar o banco de dados pelo athena para realização de consultas sql, onde todos os resultados serão armazenados no bucket s3 que foi previamente criado.**\n",
    "- **Por fim irei acessar o conjunto de dados do athena pelo QuickSight para realizar o dashboard de exemplo conforme a figura a seguir. Todos os passos estão documentados e disponibilizados neste repositório, para um eventual estudo ou replicação, vale ressaltar que o intuito do conteúdo é apenas didático, a fim de demonstrar todo o conhecimento adquirido durante o aprendizado.**\n"
   ]
  },
  {
   "cell_type": "markdown",
   "id": "9aafe582",
   "metadata": {},
   "source": [
    "<img src=\"https://github.com/Jcnok/digitalinnovationone/blob/main/Unimed-BH%20-%20Ci%C3%AAncia%20de%20Dados/AWS/desafio_athena/quicksight/desafio_quicksight_2.png?raw=true\" alt=\"drawing\" width=\"800\"/>"
   ]
  },
  {
   "cell_type": "markdown",
   "id": "c1a82a43",
   "metadata": {},
   "source": [
    "<a name=\"ancora\"></a>\n",
    "# Nesta atividade vamos:\n",
    "* **[Criar um repositório no Amazon S3 e enviar os dados.](#ancora1)**\n",
    "    * [Criando o Bucket no S3](#ancora1.1)\n",
    "    * [Listando os buckets.](#ancora1.2)\n",
    "    * [Criando as pastas output  e population](#ancora1.3)\n",
    "    * [Persistindo dados de um arquivo csv na pasta population.](#ancora1.4)\n",
    "        \n",
    "* **[Criar uma aplicação no Amazon Glue para extrair os dados do S3.](#ancora3)**\n",
    "    * [Criando a Função IAM Policy.](#ancora3.1)\n",
    "    * [Criando o  crawler.](#ancora3.2)\n",
    "    * [Listando o crawler criado para confirmação.](#ancora3.3)\n",
    "    * [Executando o crawler manualmente.](#ancora3.4)\n",
    "    * [Visualizando as tabelas geradas.](#ancora3.5)      \n",
    "        \n",
    "* **[Criar uma aplicação no Amazon Athena para consultas em SQL.](#ancora4)**\n",
    "    * [Como executar consultas(Queries) no Athena.](#ancora4.1)\n",
    "    * [Realizando queries com Athena e Visualizando os resultados com pandas.](#ancora4.2)     \n",
    "    \n",
    "* **[Utilizar o Amazon QuickSight para visualizar os dados.](#ancora5)**\n",
    "    * [Criando uma conta QuickSight standard.](#ancora5.10)\n",
    "    * [Passo_1](#ancora5.1)\n",
    "    * [Passo_2](#ancora5.2)\n",
    "    * [Passo_3](#ancora5.3)\n",
    "    * [Passo_4](#ancora5.4)\n",
    "    * [Passo_5](#ancora5.5)\n",
    "    * [Passo_6](#ancora5.6)\n",
    "    * [Passo_7](#ancora5.7)\n",
    "    * [Passo_8](#ancora5.8)\n",
    "    * [Dash criado para aprendizagem](#ancora5.9)   "
   ]
  },
  {
   "cell_type": "markdown",
   "id": "372d1e22",
   "metadata": {
    "heading_collapsed": true
   },
   "source": [
    "## **Criar um repositório no Amazon S3 e enviar os dados.**\n",
    "<a id=\"ancora1\"></a>\n",
    "[voltar](#ancora)"
   ]
  },
  {
   "cell_type": "markdown",
   "id": "cd9b5019",
   "metadata": {
    "heading_collapsed": true,
    "hidden": true
   },
   "source": [
    "### Criando o Bucket no S3\n",
    "<a id=\"ancora1.1\"></a>\n",
    "[voltar](#ancora)"
   ]
  },
  {
   "cell_type": "code",
   "execution_count": 9,
   "id": "078b8448",
   "metadata": {
    "hidden": true
   },
   "outputs": [],
   "source": [
    "import logging\n",
    "import boto3\n",
    "from botocore.exceptions import ClientError\n",
    "import os\n",
    "\n",
    "def create_bucket(bucket_name, region=None):\n",
    "    \"\"\"Create an S3 bucket in a specified region\n",
    "\n",
    "    If a region is not specified, the bucket is created in the S3 default\n",
    "    region (us-east-1).\n",
    "\n",
    "    :param bucket_name: Bucket to create\n",
    "    :param region: String region to create bucket in, e.g., 'us-west-2'\n",
    "    :return: True if bucket created, else False\n",
    "    \"\"\"\n",
    "\n",
    "    # Create bucket\n",
    "    try:\n",
    "        if region is None:\n",
    "            s3_client = boto3.client('s3')\n",
    "            s3_client.create_bucket(Bucket=bucket_name)\n",
    "        else:\n",
    "            s3_client = boto3.client('s3', region_name=region)\n",
    "            location = {'LocationConstraint': region}\n",
    "            s3_client.create_bucket(Bucket=bucket_name,\n",
    "                                    CreateBucketConfiguration=location)\n",
    "    except ClientError as e:\n",
    "        logging.error(e)\n",
    "        return False\n",
    "    return True"
   ]
  },
  {
   "cell_type": "code",
   "execution_count": 11,
   "id": "82985766",
   "metadata": {
    "hidden": true
   },
   "outputs": [
    {
     "data": {
      "text/plain": [
       "True"
      ]
     },
     "execution_count": 11,
     "metadata": {},
     "output_type": "execute_result"
    }
   ],
   "source": [
    "bucket_name = 'jcnok-athena-data'\n",
    "create_bucket(bucket_name)"
   ]
  },
  {
   "cell_type": "markdown",
   "id": "95a12133",
   "metadata": {
    "hidden": true
   },
   "source": [
    "![img](https://github.com/Jcnok/digitalinnovationone/blob/main/Unimed-BH%20-%20Ci%C3%AAncia%20de%20Dados/AWS/desafio_athena/create_bucket.png?raw=true)"
   ]
  },
  {
   "cell_type": "markdown",
   "id": "ccbd6c49",
   "metadata": {
    "heading_collapsed": true,
    "hidden": true
   },
   "source": [
    "### Listando os buckets.\n",
    "<a id=\"ancora1.2\"></a>\n",
    "[voltar](#ancora)"
   ]
  },
  {
   "cell_type": "code",
   "execution_count": 18,
   "id": "9d2e2f22",
   "metadata": {
    "hidden": true
   },
   "outputs": [
    {
     "name": "stdout",
     "output_type": "stream",
     "text": [
      "buckets existentes:\n",
      "  jcnok-athena-data\n"
     ]
    }
   ],
   "source": [
    "# Listando todos os buckets existentes no s3.\n",
    "s3 = boto3.client('s3')\n",
    "response = s3.list_buckets()\n",
    "print('buckets existentes:')\n",
    "for bucket in response['Buckets']:\n",
    "    print(f'  {bucket[\"Name\"]}')"
   ]
  },
  {
   "cell_type": "markdown",
   "id": "a782687c",
   "metadata": {
    "heading_collapsed": true,
    "hidden": true
   },
   "source": [
    "### **Criando as pastas output  e population**.\n",
    "<a id=\"ancora1.3\"></a>\n",
    "[voltar](#ancora)"
   ]
  },
  {
   "cell_type": "code",
   "execution_count": null,
   "id": "916b7663",
   "metadata": {
    "hidden": true
   },
   "outputs": [],
   "source": [
    "s3.put_object(Bucket=\"jcnok-athena-data\", Key=\"output/\")\n",
    "s3.put_object(Bucket=\"jcnok-athena-data\", Key=\"population/\")"
   ]
  },
  {
   "cell_type": "markdown",
   "id": "49523e91",
   "metadata": {
    "hidden": true
   },
   "source": [
    "![img](https://github.com/Jcnok/digitalinnovationone/blob/main/Unimed-BH%20-%20Ci%C3%AAncia%20de%20Dados/AWS/desafio_athena/create_folder.png?raw=true)"
   ]
  },
  {
   "cell_type": "markdown",
   "id": "50ff79b0",
   "metadata": {
    "heading_collapsed": true,
    "hidden": true
   },
   "source": [
    "### Persistindo dados de um arquivo csv na pasta population.\n",
    "<a id=\"ancora1.4\"></a>\n",
    "[voltar](#ancora)"
   ]
  },
  {
   "cell_type": "code",
   "execution_count": 24,
   "id": "18f2b65c",
   "metadata": {
    "hidden": true
   },
   "outputs": [
    {
     "name": "stdout",
     "output_type": "stream",
     "text": [
      "None\n"
     ]
    }
   ],
   "source": [
    "import boto3\n",
    "#Creating S3 Resource From the Session.\n",
    "s3 = boto3.resource('s3')\n",
    "\n",
    "result = s3.Bucket('jcnok-athena-data').upload_file('data/brazil_population_2019.csv','population/brazil_population_2019.csv')\n",
    "\n",
    "\n",
    "print(result)"
   ]
  },
  {
   "cell_type": "markdown",
   "id": "2fb6a49f",
   "metadata": {
    "hidden": true
   },
   "source": [
    "![img](https://github.com/Jcnok/digitalinnovationone/blob/main/Unimed-BH%20-%20Ci%C3%AAncia%20de%20Dados/AWS/desafio_athena/upload_file.png?raw=true)"
   ]
  },
  {
   "cell_type": "code",
   "execution_count": null,
   "id": "dc91f162",
   "metadata": {
    "hidden": true
   },
   "outputs": [],
   "source": []
  },
  {
   "cell_type": "markdown",
   "id": "8da85627",
   "metadata": {
    "heading_collapsed": true
   },
   "source": [
    "## Criar uma aplicação no Amazon Glue para extrair os dados do S3.\n",
    "<a id=\"ancora3\"></a>\n",
    "[voltar](#ancora)"
   ]
  },
  {
   "cell_type": "markdown",
   "id": "45bd4778",
   "metadata": {
    "hidden": true
   },
   "source": [
    "###  Criando a Função IAM Policy.\n",
    "<a id=\"ancora3.1\"></a>\n",
    "[voltar](#ancora)"
   ]
  },
  {
   "cell_type": "markdown",
   "id": "ef908edc",
   "metadata": {
    "hidden": true
   },
   "source": [
    "- Antes de criar um crawler do AWS Glue, precisamos criar uma função IAM e anexar políticas do IAM a ela com as permissões corretas."
   ]
  },
  {
   "cell_type": "code",
   "execution_count": 33,
   "id": "a88b629f",
   "metadata": {
    "hidden": true
   },
   "outputs": [],
   "source": [
    "import json"
   ]
  },
  {
   "cell_type": "markdown",
   "id": "2e85394c",
   "metadata": {
    "hidden": true
   },
   "source": [
    "- **Criando a Policy com as devidas permissões S3**."
   ]
  },
  {
   "cell_type": "code",
   "execution_count": 154,
   "id": "bffe5f44",
   "metadata": {
    "hidden": true
   },
   "outputs": [],
   "source": [
    "# Função para criar a politica de acesso;\n",
    "def create_iam_policy(s3_bucket_name):\n",
    "    # Create IAM client\n",
    "    iam = boto3.client(\"iam\")\n",
    "\n",
    "    # Create a policy\n",
    "    glue_s3_crawler_policy = {\n",
    "        \"Version\": \"2012-10-17\",\n",
    "        \"Statement\": [\n",
    "            {\n",
    "                \"Effect\": \"Allow\",\n",
    "                \"Action\": [\"s3:ListBucket\"],\n",
    "                \"Resource\": [f\"arn:aws:s3:::{s3_bucket_name}/population\"]\n",
    "            },\n",
    "            {\n",
    "                \"Effect\": \"Allow\",\n",
    "                \"Action\": [\"s3:PutObject\"],\n",
    "                \"Resource\": [f\"arn:aws:s3:::{s3_bucket_name}/population*\"]\n",
    "            },\n",
    "            {\n",
    "                \"Effect\": \"Allow\",\n",
    "                \"Action\": [\"s3:GetObject\"],\n",
    "                \"Resource\": [f\"arn:aws:s3:::{s3_bucket_name}/population*\"]\n",
    "            }\n",
    "        ]\n",
    "    }\n",
    "\n",
    "    response = iam.create_policy(\n",
    "        PolicyName='glueS3CrawlerPolicy',\n",
    "        PolicyDocument=json.dumps(glue_s3_crawler_policy)\n",
    "    )\n",
    "\n",
    "    return response[\"Policy\"][\"Arn\"]"
   ]
  },
  {
   "cell_type": "markdown",
   "id": "7a74f859",
   "metadata": {
    "hidden": true
   },
   "source": [
    "- **Criando a função IAM**."
   ]
  },
  {
   "cell_type": "code",
   "execution_count": 151,
   "id": "bc6d9f55",
   "metadata": {
    "hidden": true
   },
   "outputs": [],
   "source": [
    "def create_iam_role():\n",
    "    iam = boto3.client(\"iam\")\n",
    "\n",
    "    assume_role_policy_document = json.dumps({\n",
    "        \"Version\": \"2012-10-17\",\n",
    "        \"Statement\": [\n",
    "            {\n",
    "            \"Effect\": \"Allow\",\n",
    "            \"Principal\": {\n",
    "                \"Service\": \"glue.amazonaws.com\"\n",
    "            },\n",
    "            \"Action\": \"sts:AssumeRole\"\n",
    "            }\n",
    "        ]\n",
    "    })\n",
    "\n",
    "    response = iam.create_role(\n",
    "        RoleName = \"glueS3CrawlerRole\",\n",
    "        AssumeRolePolicyDocument = assume_role_policy_document\n",
    "    )\n",
    "\n",
    "    return response[\"Role\"][\"RoleName\"]"
   ]
  },
  {
   "cell_type": "markdown",
   "id": "dff8ccaa",
   "metadata": {
    "hidden": true
   },
   "source": [
    "- **Anexando a policy AWSGlueServiceRole à nova função.**"
   ]
  },
  {
   "cell_type": "code",
   "execution_count": 152,
   "id": "43608d32",
   "metadata": {
    "hidden": true
   },
   "outputs": [],
   "source": [
    "def attach_iam_policy(policy_arn, role_name):\n",
    "    iam = boto3.client(\"iam\")\n",
    "\n",
    "    response = iam.attach_role_policy(\n",
    "        RoleName=role_name,\n",
    "        PolicyArn=policy_arn\n",
    "    )\n",
    "\n",
    "    print(response)"
   ]
  },
  {
   "cell_type": "markdown",
   "id": "00164d0d",
   "metadata": {
    "hidden": true
   },
   "source": [
    "- **Executando as funções**."
   ]
  },
  {
   "cell_type": "code",
   "execution_count": 153,
   "id": "021bbd67",
   "metadata": {
    "hidden": true
   },
   "outputs": [
    {
     "name": "stdout",
     "output_type": "stream",
     "text": [
      "Creating IAM policy\n",
      "Creating IAM role\n",
      "Attaching IAM policy\n",
      "{'ResponseMetadata': {'RequestId': 'a15713c4-1ea1-4f54-9b6b-d564233052db', 'HTTPStatusCode': 200, 'HTTPHeaders': {'x-amzn-requestid': 'a15713c4-1ea1-4f54-9b6b-d564233052db', 'content-type': 'text/xml', 'content-length': '212', 'date': 'Thu, 10 Nov 2022 20:12:33 GMT'}, 'RetryAttempts': 0}}\n",
      "{'ResponseMetadata': {'RequestId': '8bbc793a-60ec-421f-bf15-d232988394fc', 'HTTPStatusCode': 200, 'HTTPHeaders': {'x-amzn-requestid': '8bbc793a-60ec-421f-bf15-d232988394fc', 'content-type': 'text/xml', 'content-length': '212', 'date': 'Thu, 10 Nov 2022 20:12:34 GMT'}, 'RetryAttempts': 0}}\n"
     ]
    }
   ],
   "source": [
    "# Nome do meu bucket s3\n",
    "s3_bucket_name = \"jcnok-athena-data\"\n",
    "\n",
    "# 1. Criando o IAM policy\n",
    "print(\"Criando o IAM policy\")\n",
    "policy_arn = create_iam_policy(s3_bucket_name=s3_bucket_name)\n",
    "\n",
    "# 2. Criando o IAM role\n",
    "print(\"Criando o IAM role\")\n",
    "role_name = create_iam_role()\n",
    "\n",
    "# 3. Anexando o IAM policy\n",
    "print(\"Anexando o IAM policy\")\n",
    "attach_iam_policy(policy_arn=policy_arn, role_name=role_name)\n",
    "\n",
    "# 4. Anexando ao Glue Managed policy\n",
    "service_policy_arn = \"arn:aws:iam::aws:policy/service-role/AWSGlueServiceRole\"\n",
    "attach_iam_policy(policy_arn=service_policy_arn, role_name=role_name)"
   ]
  },
  {
   "cell_type": "markdown",
   "id": "7613ebe2",
   "metadata": {
    "hidden": true
   },
   "source": [
    "![img](https://github.com/Jcnok/digitalinnovationone/blob/main/Unimed-BH%20-%20Ci%C3%AAncia%20de%20Dados/AWS/desafio_athena/GlueS3CrawlerRole.png?raw=true)"
   ]
  },
  {
   "cell_type": "markdown",
   "id": "74919eb2",
   "metadata": {
    "hidden": true
   },
   "source": [
    "###  Criando o  crawler.\n",
    "<a id=\"ancora3.2\"></a>\n",
    "[voltar](#ancora)"
   ]
  },
  {
   "cell_type": "markdown",
   "id": "3a5f5c6d",
   "metadata": {
    "hidden": true
   },
   "source": [
    "- **Criando uma função para criar o glue-crawler.**"
   ]
  },
  {
   "cell_type": "code",
   "execution_count": 155,
   "id": "c3156872",
   "metadata": {
    "hidden": true
   },
   "outputs": [],
   "source": [
    "# Função para criar o crawler\n",
    "def create_glue_crawler(crawler_name, iam_role_name, db_name, s3_path, s3_path_exclusions):\n",
    "    glue_client = boto3.client(\"glue\")\n",
    "\n",
    "    response = glue_client.create_crawler(\n",
    "        Name=crawler_name,\n",
    "        Role=iam_role_name,\n",
    "        DatabaseName=db_name,\n",
    "        Targets={\n",
    "            \"S3Targets\": [\n",
    "                {\n",
    "                    \"Path\": s3_path,\n",
    "                    \"Exclusions\": s3_path_exclusions\n",
    "                }\n",
    "            ]\n",
    "        }\n",
    "    )\n",
    "\n",
    "    print(response)"
   ]
  },
  {
   "cell_type": "markdown",
   "id": "cda1ba8a",
   "metadata": {
    "hidden": true
   },
   "source": [
    "- **Criando o Crawler.**"
   ]
  },
  {
   "cell_type": "code",
   "execution_count": 156,
   "id": "63d4ed42",
   "metadata": {
    "hidden": true
   },
   "outputs": [
    {
     "name": "stdout",
     "output_type": "stream",
     "text": [
      "{'ResponseMetadata': {'RequestId': '9df6dacd-c109-4ce3-a968-279a3096ec89', 'HTTPStatusCode': 200, 'HTTPHeaders': {'date': 'Thu, 10 Nov 2022 20:16:41 GMT', 'content-type': 'application/x-amz-json-1.1', 'content-length': '2', 'connection': 'keep-alive', 'x-amzn-requestid': '9df6dacd-c109-4ce3-a968-279a3096ec89'}, 'RetryAttempts': 0}}\n"
     ]
    }
   ],
   "source": [
    "#nome do crawler\n",
    "crawler_name = \"GluePopulationCrawler\"\n",
    "#nome do banco de dados\n",
    "glue_database_name = \"GluePopulationDB\"\n",
    "#executando a função criar crawler\n",
    "create_glue_crawler(\n",
    "    crawler_name=crawler_name,\n",
    "    iam_role_name=role_name, \n",
    "    db_name=glue_database_name,\n",
    "    s3_path=f\"s3://{s3_bucket_name}/population\", # endereço do meu s3 bucket\n",
    "    s3_path_exclusions=[],\n",
    ")"
   ]
  },
  {
   "cell_type": "markdown",
   "id": "ef63253e",
   "metadata": {
    "hidden": true
   },
   "source": [
    "![img](https://github.com/Jcnok/digitalinnovationone/blob/main/Unimed-BH%20-%20Ci%C3%AAncia%20de%20Dados/AWS/desafio_athena/create_crawler.png?raw=true)"
   ]
  },
  {
   "cell_type": "markdown",
   "id": "4482880d",
   "metadata": {
    "hidden": true
   },
   "source": [
    "### Listando o crawler criado para confirmação.\n",
    "<a id=\"ancora3.3\"></a>\n",
    "[voltar](#ancora)"
   ]
  },
  {
   "cell_type": "code",
   "execution_count": 168,
   "id": "bf324a34",
   "metadata": {
    "hidden": true
   },
   "outputs": [
    {
     "data": {
      "text/plain": [
       "['GluePopulationCrawler', 'testedb']"
      ]
     },
     "execution_count": 168,
     "metadata": {},
     "output_type": "execute_result"
    }
   ],
   "source": [
    "glue_client.list_crawlers()['CrawlerNames']"
   ]
  },
  {
   "cell_type": "markdown",
   "id": "5a962ff5",
   "metadata": {
    "hidden": true
   },
   "source": [
    "### Executando o crawler manualmente.\n",
    "<a id=\"ancora3.4\"></a>\n",
    "[voltar](#ancora)"
   ]
  },
  {
   "cell_type": "code",
   "execution_count": 157,
   "id": "dcd0bb79",
   "metadata": {
    "hidden": true
   },
   "outputs": [],
   "source": [
    "def start_crawler(crawler_name):\n",
    "    glue_client = boto3.client(\"glue\")\n",
    "\n",
    "    response = glue_client.start_crawler(\n",
    "        Name=crawler_name\n",
    "    )\n",
    "    print(response)"
   ]
  },
  {
   "cell_type": "code",
   "execution_count": 158,
   "id": "d4e15d01",
   "metadata": {
    "hidden": true,
    "scrolled": true
   },
   "outputs": [
    {
     "name": "stdout",
     "output_type": "stream",
     "text": [
      "{'ResponseMetadata': {'RequestId': 'adbae97d-a6fc-4315-a9a7-3b8b794008e0', 'HTTPStatusCode': 200, 'HTTPHeaders': {'date': 'Thu, 10 Nov 2022 20:17:34 GMT', 'content-type': 'application/x-amz-json-1.1', 'content-length': '2', 'connection': 'keep-alive', 'x-amzn-requestid': 'adbae97d-a6fc-4315-a9a7-3b8b794008e0'}, 'RetryAttempts': 0}}\n"
     ]
    }
   ],
   "source": [
    "start_crawler(crawler_name)"
   ]
  },
  {
   "cell_type": "markdown",
   "id": "d9e1c1c9",
   "metadata": {
    "hidden": true
   },
   "source": [
    "- **Checando o status do crawler**."
   ]
  },
  {
   "cell_type": "code",
   "execution_count": 59,
   "id": "cda87af3",
   "metadata": {
    "hidden": true
   },
   "outputs": [
    {
     "data": {
      "text/plain": [
       "'READY'"
      ]
     },
     "execution_count": 59,
     "metadata": {},
     "output_type": "execute_result"
    }
   ],
   "source": [
    "exit_v = 0\n",
    "while not(exit_v):\n",
    "    response = glue_client.get_crawler(Name = crawler_name)\n",
    "    if (response['Crawler']['State'] == 'STOPPING') or (response['Crawler']['State'] == 'READY'):\n",
    "        exit_v = 1\n",
    "        \n",
    "response['Crawler']['State']"
   ]
  },
  {
   "cell_type": "markdown",
   "id": "c016f9e7",
   "metadata": {
    "hidden": true
   },
   "source": [
    "- *obs:Necessário aguardar até que fique com status READY*."
   ]
  },
  {
   "cell_type": "markdown",
   "id": "1f45c946",
   "metadata": {
    "heading_collapsed": true,
    "hidden": true
   },
   "source": [
    "### Visualizando as tabelas geradas.\n",
    "<a id=\"ancora3.5\"></a>\n",
    "[voltar](#ancora)"
   ]
  },
  {
   "cell_type": "code",
   "execution_count": 164,
   "id": "37c417e8",
   "metadata": {
    "hidden": true
   },
   "outputs": [
    {
     "data": {
      "text/plain": [
       "[{'Name': 'region', 'Type': 'string'},\n",
       " {'Name': 'state', 'Type': 'string'},\n",
       " {'Name': 'city', 'Type': 'string'},\n",
       " {'Name': 'state_code', 'Type': 'bigint'},\n",
       " {'Name': 'city_code', 'Type': 'bigint'},\n",
       " {'Name': 'health_region_code', 'Type': 'bigint'},\n",
       " {'Name': 'health_region', 'Type': 'string'},\n",
       " {'Name': 'population', 'Type': 'bigint'}]"
      ]
     },
     "execution_count": 164,
     "metadata": {},
     "output_type": "execute_result"
    }
   ],
   "source": [
    "response = glue_client.get_tables(DatabaseName=glue_database_name)\n",
    "response['TableList'][0]['StorageDescriptor']['Columns']"
   ]
  },
  {
   "cell_type": "markdown",
   "id": "60208538",
   "metadata": {
    "hidden": true
   },
   "source": [
    "![img](https://github.com/Jcnok/digitalinnovationone/blob/main/Unimed-BH%20-%20Ci%C3%AAncia%20de%20Dados/AWS/desafio_athena/create_table.png?raw=true)"
   ]
  },
  {
   "cell_type": "markdown",
   "id": "f601ef67",
   "metadata": {
    "heading_collapsed": true
   },
   "source": [
    "## Criar uma aplicação no Amazon Athena para consultas em SQL.\n",
    "<a id=\"ancora4\"></a>\n",
    "[voltar](#ancora)"
   ]
  },
  {
   "cell_type": "markdown",
   "id": "d01fb140",
   "metadata": {
    "hidden": true
   },
   "source": [
    "### Como executar consultas(Queries) no Athena.\n",
    "<a id=\"ancora4.1\"></a>\n",
    "[voltar](#ancora)"
   ]
  },
  {
   "cell_type": "markdown",
   "id": "29cbd109",
   "metadata": {
    "hidden": true
   },
   "source": [
    "- Podemos usar SQL padrão para consultar a tabela. No exemplo a seguir, recuperaremos o número de linhas em nosso conjunto de dados:"
   ]
  },
  {
   "cell_type": "code",
   "execution_count": 196,
   "id": "620b5003",
   "metadata": {
    "hidden": true
   },
   "outputs": [],
   "source": [
    "#Criando a função para consulta especifica.\n",
    "def get_num_rows(database_name, table_name, output_location):\n",
    "    athena_client = boto3.client(\"athena\")\n",
    "\n",
    "    query = f\"SELECT COUNT(*) AS total FROM {database_name}.{table_name}\"\n",
    "    response = athena_client.start_query_execution(\n",
    "        QueryString=query,\n",
    "        ResultConfiguration={\"OutputLocation\": output_location}\n",
    "    )\n",
    "\n",
    "    return response[\"QueryExecutionId\"]"
   ]
  },
  {
   "cell_type": "markdown",
   "id": "32332f70",
   "metadata": {
    "hidden": true
   },
   "source": [
    "![img](https://github.com/Jcnok/digitalinnovationone/blob/main/Unimed-BH%20-%20Ci%C3%AAncia%20de%20Dados/AWS/desafio_athena/create_athena.png?raw=true)"
   ]
  },
  {
   "cell_type": "markdown",
   "id": "7270452a",
   "metadata": {
    "hidden": true
   },
   "source": [
    "- **Executando a consulta**."
   ]
  },
  {
   "cell_type": "code",
   "execution_count": 197,
   "id": "90b9f9f3",
   "metadata": {
    "hidden": true
   },
   "outputs": [
    {
     "name": "stdout",
     "output_type": "stream",
     "text": [
      "Querying com athena:\n",
      "26859434-10aa-4d3d-9c27-49ef85adf6fd\n"
     ]
    }
   ],
   "source": [
    "database_name= 'GluePopulationCrawler'\n",
    "table_name= 'population'\n",
    "output_location= 's3://jcnok-athena-data/output/' \n",
    "print(\"Querying com athena:\")\n",
    "execution_id = get_num_rows(database_name=database_name, table_name=table_name, output_location=output_location)\n",
    "print(execution_id)"
   ]
  },
  {
   "cell_type": "markdown",
   "id": "72fb63c7",
   "metadata": {
    "hidden": true
   },
   "source": [
    "- **Como acessar os resultados de uma consulta.**"
   ]
  },
  {
   "cell_type": "markdown",
   "id": "fa690577",
   "metadata": {
    "hidden": true
   },
   "source": [
    "- Os resultados de qualquer consulta são armazenados no local de saída fornecido durante a própria consulta.\n",
    "    - 's3://jcnok-athena-data/output/' "
   ]
  },
  {
   "cell_type": "markdown",
   "id": "42da11bd",
   "metadata": {
    "hidden": true
   },
   "source": [
    "![img](https://github.com/Jcnok/digitalinnovationone/blob/main/Unimed-BH%20-%20Ci%C3%AAncia%20de%20Dados/AWS/desafio_athena/result_sql_athena_inS3.png?raw=true)"
   ]
  },
  {
   "cell_type": "markdown",
   "id": "1f79e9e3",
   "metadata": {
    "hidden": true
   },
   "source": [
    "- **Podemos acessar os resultados da consulta da seguinte forma:**"
   ]
  },
  {
   "cell_type": "code",
   "execution_count": 171,
   "id": "3b59ba80",
   "metadata": {
    "hidden": true
   },
   "outputs": [],
   "source": [
    "def get_query_results(execution_id):\n",
    "    athena_client = boto3.client(\"athena\")\n",
    "\n",
    "    response = athena_client.get_query_results(\n",
    "        QueryExecutionId=execution_id\n",
    "    )\n",
    "\n",
    "    results = response[\"ResultSet\"][\"Rows\"]\n",
    "    return results"
   ]
  },
  {
   "cell_type": "code",
   "execution_count": 200,
   "id": "74b4514f",
   "metadata": {
    "hidden": true
   },
   "outputs": [
    {
     "name": "stdout",
     "output_type": "stream",
     "text": [
      "recuperando resultados\n",
      "[{'Data': [{'VarCharValue': 'total'}]}, {'Data': [{'VarCharValue': '2865'}]}]\n"
     ]
    }
   ],
   "source": [
    "print(\"recuperando resultados\")\n",
    "resultado = get_query_results(execution_id=execution_id)\n",
    "print(resultado)"
   ]
  },
  {
   "cell_type": "markdown",
   "id": "a02ac76a",
   "metadata": {
    "hidden": true
   },
   "source": [
    "- **Criando uma função para realizarmos alguns testes**."
   ]
  },
  {
   "cell_type": "code",
   "execution_count": 323,
   "id": "a0be7400",
   "metadata": {
    "hidden": true
   },
   "outputs": [],
   "source": [
    "athena_client = boto3.client(\"athena\")\n",
    "def consulta(output_location, query):         \n",
    "        print(\"Realizando a consulta com athena...\")\n",
    "        execution_id = athena_client.start_query_execution(\n",
    "        QueryString=query,\n",
    "        ResultConfiguration={\"OutputLocation\": output_location}\n",
    "    )[\"QueryExecutionId\"]\n",
    "        return execution_id\n",
    "        \n",
    "def resultado(execution_id):        \n",
    "        print(\"recuperando resultados...\")\n",
    "        response = athena_client.get_query_results(QueryExecutionId=execution_id)  \n",
    "        results = response[\"ResultSet\"][\"Rows\"]\n",
    "        return results"
   ]
  },
  {
   "cell_type": "markdown",
   "id": "2cdf35a7",
   "metadata": {
    "hidden": true
   },
   "source": [
    "- **Soma de toda a população do Brasil**"
   ]
  },
  {
   "cell_type": "code",
   "execution_count": 324,
   "id": "f5b27dd2",
   "metadata": {
    "hidden": true
   },
   "outputs": [
    {
     "name": "stdout",
     "output_type": "stream",
     "text": [
      "Realizando a consulta com athena...\n"
     ]
    }
   ],
   "source": [
    "query = \"SELECT SUM(population) as total FROM gluepopulationdb.population\"\n",
    "id = consulta(output_location,query)"
   ]
  },
  {
   "cell_type": "code",
   "execution_count": 334,
   "id": "c77d3fe9",
   "metadata": {
    "hidden": true
   },
   "outputs": [
    {
     "name": "stdout",
     "output_type": "stream",
     "text": [
      "recuperando resultados...\n",
      "Soma total da população do Brasil:181.728.458 habitantes\n"
     ]
    }
   ],
   "source": [
    "result = resultado(id)\n",
    "rs = f\"{int(result[1]['Data'][0]['VarCharValue']):,}\".replace(',','.')\n",
    "print(f\"Soma total da população do Brasil:{rs} habitantes\")"
   ]
  },
  {
   "cell_type": "markdown",
   "id": "fbc4a8c9",
   "metadata": {
    "hidden": true
   },
   "source": [
    "- **Consultando o total da população da cidade de Foz do Iguaçu.**"
   ]
  },
  {
   "cell_type": "code",
   "execution_count": 335,
   "id": "bfb1de06",
   "metadata": {
    "hidden": true
   },
   "outputs": [
    {
     "name": "stdout",
     "output_type": "stream",
     "text": [
      "Realizando a consulta com athena...\n"
     ]
    }
   ],
   "source": [
    "query = \"select city, population from gluepopulationdb.population where city='Foz do Iguaçu'\"\n",
    "id = consulta(output_location,query)"
   ]
  },
  {
   "cell_type": "code",
   "execution_count": 338,
   "id": "a7767a58",
   "metadata": {
    "hidden": true
   },
   "outputs": [
    {
     "name": "stdout",
     "output_type": "stream",
     "text": [
      "recuperando resultados...\n",
      "Soma total da população da Cidade:Foz do Iguaçu:258.532 habitantes\n"
     ]
    }
   ],
   "source": [
    "result = resultado(id)\n",
    "rs = f\"{int(result[1]['Data'][1]['VarCharValue']):,}\".replace(',','.')\n",
    "print(f\"Soma total da população da Cidade:Foz do Iguaçu:{rs} habitantes\")"
   ]
  },
  {
   "cell_type": "markdown",
   "id": "a6495712",
   "metadata": {
    "heading_collapsed": true,
    "hidden": true
   },
   "source": [
    "### Realizando queries com Athena e Visualizando os resultados com pandas.\n",
    "<a id=\"ancora4.2\"></a>\n",
    "[voltar](#ancora)"
   ]
  },
  {
   "cell_type": "markdown",
   "id": "aa36878c",
   "metadata": {
    "hidden": true
   },
   "source": [
    "- **Esse método é bem interessante pois conseguimos realizar as queries e receber os resultados como um dataframe pandas.**"
   ]
  },
  {
   "cell_type": "code",
   "execution_count": 360,
   "id": "854f3e78",
   "metadata": {
    "hidden": true
   },
   "outputs": [],
   "source": [
    "# importando as libs necessárias.\n",
    "import pyathena\n",
    "from pyathena import connect\n",
    "import pandas as pd\n",
    "conn = connect(s3_staging_dir='s3://jcnok-athena-data/output')\n",
    "import warnings\n",
    "warnings.filterwarnings('ignore')"
   ]
  },
  {
   "cell_type": "markdown",
   "id": "6c168740",
   "metadata": {
    "hidden": true
   },
   "source": [
    "- **Exibindo todos os dados da tabela population**."
   ]
  },
  {
   "cell_type": "code",
   "execution_count": 385,
   "id": "f4c9b870",
   "metadata": {
    "hidden": true
   },
   "outputs": [
    {
     "data": {
      "text/html": [
       "<div>\n",
       "<style scoped>\n",
       "    .dataframe tbody tr th:only-of-type {\n",
       "        vertical-align: middle;\n",
       "    }\n",
       "\n",
       "    .dataframe tbody tr th {\n",
       "        vertical-align: top;\n",
       "    }\n",
       "\n",
       "    .dataframe thead th {\n",
       "        text-align: right;\n",
       "    }\n",
       "</style>\n",
       "<table border=\"1\" class=\"dataframe\">\n",
       "  <thead>\n",
       "    <tr style=\"text-align: right;\">\n",
       "      <th></th>\n",
       "      <th>region</th>\n",
       "      <th>state</th>\n",
       "      <th>city</th>\n",
       "      <th>state_code</th>\n",
       "      <th>city_code</th>\n",
       "      <th>health_region_code</th>\n",
       "      <th>health_region</th>\n",
       "      <th>population</th>\n",
       "    </tr>\n",
       "  </thead>\n",
       "  <tbody>\n",
       "    <tr>\n",
       "      <th>0</th>\n",
       "      <td>Centro-Oeste</td>\n",
       "      <td>Mato Grosso do Sul</td>\n",
       "      <td>Alcinópolis</td>\n",
       "      <td>50</td>\n",
       "      <td>500025</td>\n",
       "      <td>50001</td>\n",
       "      <td>Campo Grande</td>\n",
       "      <td>5343.0</td>\n",
       "    </tr>\n",
       "    <tr>\n",
       "      <th>1</th>\n",
       "      <td>Centro-Oeste</td>\n",
       "      <td>Mato Grosso do Sul</td>\n",
       "      <td>Amambai</td>\n",
       "      <td>50</td>\n",
       "      <td>500060</td>\n",
       "      <td>50003</td>\n",
       "      <td>Dourados</td>\n",
       "      <td>39396.0</td>\n",
       "    </tr>\n",
       "    <tr>\n",
       "      <th>2</th>\n",
       "      <td>Centro-Oeste</td>\n",
       "      <td>Mato Grosso do Sul</td>\n",
       "      <td>Bataguassu</td>\n",
       "      <td>50</td>\n",
       "      <td>500190</td>\n",
       "      <td>50004</td>\n",
       "      <td>Três Lagoas</td>\n",
       "      <td>23024.0</td>\n",
       "    </tr>\n",
       "    <tr>\n",
       "      <th>3</th>\n",
       "      <td>Centro-Oeste</td>\n",
       "      <td>Mato Grosso do Sul</td>\n",
       "      <td>Batayporã</td>\n",
       "      <td>50</td>\n",
       "      <td>500200</td>\n",
       "      <td>50003</td>\n",
       "      <td>Dourados</td>\n",
       "      <td>11329.0</td>\n",
       "    </tr>\n",
       "    <tr>\n",
       "      <th>4</th>\n",
       "      <td>Centro-Oeste</td>\n",
       "      <td>Mato Grosso do Sul</td>\n",
       "      <td>Bela Vista</td>\n",
       "      <td>50</td>\n",
       "      <td>500210</td>\n",
       "      <td>50001</td>\n",
       "      <td>Campo Grande</td>\n",
       "      <td>24629.0</td>\n",
       "    </tr>\n",
       "  </tbody>\n",
       "</table>\n",
       "</div>"
      ],
      "text/plain": [
       "         region               state         city  state_code  city_code  \\\n",
       "0  Centro-Oeste  Mato Grosso do Sul  Alcinópolis          50     500025   \n",
       "1  Centro-Oeste  Mato Grosso do Sul      Amambai          50     500060   \n",
       "2  Centro-Oeste  Mato Grosso do Sul   Bataguassu          50     500190   \n",
       "3  Centro-Oeste  Mato Grosso do Sul    Batayporã          50     500200   \n",
       "4  Centro-Oeste  Mato Grosso do Sul   Bela Vista          50     500210   \n",
       "\n",
       "   health_region_code health_region  population  \n",
       "0               50001  Campo Grande      5343.0  \n",
       "1               50003      Dourados     39396.0  \n",
       "2               50004   Três Lagoas     23024.0  \n",
       "3               50003      Dourados     11329.0  \n",
       "4               50001  Campo Grande     24629.0  "
      ]
     },
     "execution_count": 385,
     "metadata": {},
     "output_type": "execute_result"
    }
   ],
   "source": [
    "# Exibindo todos os dados da tabela population.\n",
    "df = pd.read_sql('select * from gluepopulationdb.population', conn) \n",
    "df.head()"
   ]
  },
  {
   "cell_type": "markdown",
   "id": "03457218",
   "metadata": {
    "hidden": true
   },
   "source": [
    "- **Total da população da região Sul**."
   ]
  },
  {
   "cell_type": "code",
   "execution_count": 366,
   "id": "8f2787b2",
   "metadata": {
    "hidden": true
   },
   "outputs": [
    {
     "data": {
      "text/html": [
       "<div>\n",
       "<style scoped>\n",
       "    .dataframe tbody tr th:only-of-type {\n",
       "        vertical-align: middle;\n",
       "    }\n",
       "\n",
       "    .dataframe tbody tr th {\n",
       "        vertical-align: top;\n",
       "    }\n",
       "\n",
       "    .dataframe thead th {\n",
       "        text-align: right;\n",
       "    }\n",
       "</style>\n",
       "<table border=\"1\" class=\"dataframe\">\n",
       "  <thead>\n",
       "    <tr style=\"text-align: right;\">\n",
       "      <th></th>\n",
       "      <th>region</th>\n",
       "      <th>total</th>\n",
       "    </tr>\n",
       "  </thead>\n",
       "  <tbody>\n",
       "    <tr>\n",
       "      <th>0</th>\n",
       "      <td>Sul</td>\n",
       "      <td>24522343</td>\n",
       "    </tr>\n",
       "  </tbody>\n",
       "</table>\n",
       "</div>"
      ],
      "text/plain": [
       "  region     total\n",
       "0    Sul  24522343"
      ]
     },
     "execution_count": 366,
     "metadata": {},
     "output_type": "execute_result"
    }
   ],
   "source": [
    "query =\"select region,sum(population) as total from gluepopulationdb.population where region='Sul'group by region\"\n",
    "pd.read_sql(query,conn)"
   ]
  },
  {
   "cell_type": "markdown",
   "id": "e60ea257",
   "metadata": {
    "hidden": true
   },
   "source": [
    "- **Total da população da região Sudeste**."
   ]
  },
  {
   "cell_type": "code",
   "execution_count": 374,
   "id": "0c8e99ab",
   "metadata": {
    "hidden": true
   },
   "outputs": [
    {
     "data": {
      "text/html": [
       "<div>\n",
       "<style scoped>\n",
       "    .dataframe tbody tr th:only-of-type {\n",
       "        vertical-align: middle;\n",
       "    }\n",
       "\n",
       "    .dataframe tbody tr th {\n",
       "        vertical-align: top;\n",
       "    }\n",
       "\n",
       "    .dataframe thead th {\n",
       "        text-align: right;\n",
       "    }\n",
       "</style>\n",
       "<table border=\"1\" class=\"dataframe\">\n",
       "  <thead>\n",
       "    <tr style=\"text-align: right;\">\n",
       "      <th></th>\n",
       "      <th>region</th>\n",
       "      <th>total</th>\n",
       "    </tr>\n",
       "  </thead>\n",
       "  <tbody>\n",
       "    <tr>\n",
       "      <th>0</th>\n",
       "      <td>Sudeste</td>\n",
       "      <td>80421777</td>\n",
       "    </tr>\n",
       "  </tbody>\n",
       "</table>\n",
       "</div>"
      ],
      "text/plain": [
       "    region     total\n",
       "0  Sudeste  80421777"
      ]
     },
     "execution_count": 374,
     "metadata": {},
     "output_type": "execute_result"
    }
   ],
   "source": [
    "query =\"select region,sum(population) as total from gluepopulationdb.population where region='Sudeste'group by region\"\n",
    "pd.read_sql(query,conn)"
   ]
  },
  {
   "cell_type": "markdown",
   "id": "8f4c683e",
   "metadata": {
    "hidden": true
   },
   "source": [
    "- **Total da população da cidade de Ponta Porã - MS**."
   ]
  },
  {
   "cell_type": "code",
   "execution_count": 396,
   "id": "88267b3c",
   "metadata": {
    "hidden": true
   },
   "outputs": [
    {
     "data": {
      "text/html": [
       "<div>\n",
       "<style scoped>\n",
       "    .dataframe tbody tr th:only-of-type {\n",
       "        vertical-align: middle;\n",
       "    }\n",
       "\n",
       "    .dataframe tbody tr th {\n",
       "        vertical-align: top;\n",
       "    }\n",
       "\n",
       "    .dataframe thead th {\n",
       "        text-align: right;\n",
       "    }\n",
       "</style>\n",
       "<table border=\"1\" class=\"dataframe\">\n",
       "  <thead>\n",
       "    <tr style=\"text-align: right;\">\n",
       "      <th></th>\n",
       "      <th>region</th>\n",
       "      <th>state</th>\n",
       "      <th>city</th>\n",
       "      <th>population</th>\n",
       "    </tr>\n",
       "  </thead>\n",
       "  <tbody>\n",
       "    <tr>\n",
       "      <th>0</th>\n",
       "      <td>Centro-Oeste</td>\n",
       "      <td>Mato Grosso do Sul</td>\n",
       "      <td>Ponta Porã</td>\n",
       "      <td>92526</td>\n",
       "    </tr>\n",
       "  </tbody>\n",
       "</table>\n",
       "</div>"
      ],
      "text/plain": [
       "         region               state        city  population\n",
       "0  Centro-Oeste  Mato Grosso do Sul  Ponta Porã       92526"
      ]
     },
     "execution_count": 396,
     "metadata": {},
     "output_type": "execute_result"
    }
   ],
   "source": [
    "query =\"select region,state, city , population from gluepopulationdb.population where city='Ponta Porã';\"\n",
    "pd.read_sql(query,conn)"
   ]
  },
  {
   "cell_type": "markdown",
   "id": "e4e74c10",
   "metadata": {
    "hidden": true
   },
   "source": [
    "- **Total da população por região**."
   ]
  },
  {
   "cell_type": "code",
   "execution_count": 397,
   "id": "b0ad28c5",
   "metadata": {
    "hidden": true
   },
   "outputs": [
    {
     "data": {
      "text/html": [
       "<div>\n",
       "<style scoped>\n",
       "    .dataframe tbody tr th:only-of-type {\n",
       "        vertical-align: middle;\n",
       "    }\n",
       "\n",
       "    .dataframe tbody tr th {\n",
       "        vertical-align: top;\n",
       "    }\n",
       "\n",
       "    .dataframe thead th {\n",
       "        text-align: right;\n",
       "    }\n",
       "</style>\n",
       "<table border=\"1\" class=\"dataframe\">\n",
       "  <thead>\n",
       "    <tr style=\"text-align: right;\">\n",
       "      <th></th>\n",
       "      <th>region</th>\n",
       "      <th>total</th>\n",
       "    </tr>\n",
       "  </thead>\n",
       "  <tbody>\n",
       "    <tr>\n",
       "      <th>0</th>\n",
       "      <td>Sudeste</td>\n",
       "      <td>80421777</td>\n",
       "    </tr>\n",
       "    <tr>\n",
       "      <th>1</th>\n",
       "      <td>Nordeste</td>\n",
       "      <td>48946190</td>\n",
       "    </tr>\n",
       "    <tr>\n",
       "      <th>2</th>\n",
       "      <td>Centro-Oeste</td>\n",
       "      <td>13085364</td>\n",
       "    </tr>\n",
       "    <tr>\n",
       "      <th>3</th>\n",
       "      <td>Sul</td>\n",
       "      <td>24522343</td>\n",
       "    </tr>\n",
       "    <tr>\n",
       "      <th>4</th>\n",
       "      <td>Norte</td>\n",
       "      <td>14752784</td>\n",
       "    </tr>\n",
       "  </tbody>\n",
       "</table>\n",
       "</div>"
      ],
      "text/plain": [
       "         region     total\n",
       "0       Sudeste  80421777\n",
       "1      Nordeste  48946190\n",
       "2  Centro-Oeste  13085364\n",
       "3           Sul  24522343\n",
       "4         Norte  14752784"
      ]
     },
     "execution_count": 397,
     "metadata": {},
     "output_type": "execute_result"
    }
   ],
   "source": [
    "query = \"select region, sum(population) as total from gluepopulationdb.population group by region\"\n",
    "pd.read_sql(query,conn)"
   ]
  },
  {
   "cell_type": "markdown",
   "id": "49a79b3b",
   "metadata": {
    "heading_collapsed": true
   },
   "source": [
    "## Utilizar o Amazon QuickSight para visualizar os dados.\n",
    "<a id=\"ancora5\"></a>\n",
    "[voltar](#ancora)"
   ]
  },
  {
   "cell_type": "markdown",
   "id": "fc217e1a",
   "metadata": {
    "hidden": true
   },
   "source": [
    "### Criando uma conta QuickSight standard.\n",
    "<a id=\"ancora5.10\"></a>\n",
    "[voltar](#ancora)"
   ]
  },
  {
   "cell_type": "markdown",
   "id": "68217096",
   "metadata": {
    "hidden": true
   },
   "source": [
    "### - Passo 1: \n",
    "\n",
    "    - Escolher a mesma região do serviço athenas e s3 criado.\n",
    "    - Criar um usuário e marcar Amazon Athena.\n",
    "<a id=\"ancora5.1\"></a>\n",
    "[voltar](#ancora)"
   ]
  },
  {
   "cell_type": "markdown",
   "id": "cb4a085f",
   "metadata": {
    "hidden": true
   },
   "source": [
    "![img](https://github.com/Jcnok/digitalinnovationone/blob/main/Unimed-BH%20-%20Ci%C3%AAncia%20de%20Dados/AWS/desafio_athena/quicksight/1.png?raw=true)"
   ]
  },
  {
   "cell_type": "markdown",
   "id": "044840a5",
   "metadata": {
    "hidden": true
   },
   "source": [
    "### - Passo 2:\n",
    "\n",
    "    - Selecionar o bucket criado no S3 e clicar em concluir.\n",
    "<a id=\"ancora5.2\"></a>\n",
    "[voltar](#ancora)        "
   ]
  },
  {
   "cell_type": "markdown",
   "id": "76432a26",
   "metadata": {
    "hidden": true
   },
   "source": [
    "![img](https://github.com/Jcnok/digitalinnovationone/blob/main/Unimed-BH%20-%20Ci%C3%AAncia%20de%20Dados/AWS/desafio_athena/quicksight/2.png?raw=true)"
   ]
  },
  {
   "cell_type": "markdown",
   "id": "dec3c333",
   "metadata": {
    "hidden": true
   },
   "source": [
    "### - Passo 3:\n",
    "\n",
    "    - A Mensagem a seguir deve surgir, basta clicar em acessar.\n",
    "    \n",
    "<a id=\"ancora5.3\"></a>\n",
    "[voltar](#ancora)"
   ]
  },
  {
   "cell_type": "markdown",
   "id": "6112546b",
   "metadata": {
    "hidden": true
   },
   "source": [
    "![img](https://github.com/Jcnok/digitalinnovationone/blob/main/Unimed-BH%20-%20Ci%C3%AAncia%20de%20Dados/AWS/desafio_athena/quicksight/3.png?raw=true)"
   ]
  },
  {
   "cell_type": "markdown",
   "id": "148c636d",
   "metadata": {
    "hidden": true
   },
   "source": [
    "### - Passo4:\n",
    "    - Agora será necessário carregar o conjunto de dados Population.\n",
    "    - Clique em novo conjunto de dados.\n",
    "    - Clieque em conjunto de dados Athena.\n",
    "<a id=\"ancora5.4\"></a>\n",
    "[voltar](#ancora)"
   ]
  },
  {
   "cell_type": "markdown",
   "id": "1e39ccb0",
   "metadata": {
    "hidden": true
   },
   "source": [
    "![img](https://github.com/Jcnok/digitalinnovationone/blob/main/Unimed-BH%20-%20Ci%C3%AAncia%20de%20Dados/AWS/desafio_athena/quicksight/4.png?raw=true)"
   ]
  },
  {
   "cell_type": "markdown",
   "id": "72ec77e8",
   "metadata": {
    "hidden": true
   },
   "source": [
    "### - Passo 5:\n",
    "    - Selecione o nome da fonte criado no Athena.\n",
    "    - Clique em validação para conferir.\n",
    "    - Clique em criar fonte de dados.\n",
    "<a id=\"ancora5.5\"></a>\n",
    "[voltar](#ancora)"
   ]
  },
  {
   "cell_type": "markdown",
   "id": "0b8a407e",
   "metadata": {
    "hidden": true
   },
   "source": [
    "![img](https://github.com/Jcnok/digitalinnovationone/blob/main/Unimed-BH%20-%20Ci%C3%AAncia%20de%20Dados/AWS/desafio_athena/quicksight/5.png?raw=true)"
   ]
  },
  {
   "cell_type": "markdown",
   "id": "994f6e63",
   "metadata": {
    "hidden": true
   },
   "source": [
    "### - Passo 6:\n",
    "    - Selecione o Catálogo, Banco de dados e a tabela.\n",
    "    - Pode selecionar pré-visualizar ou selecionar direto.\n",
    "<a id=\"ancora5.6\"></a>\n",
    "[voltar](#ancora)\n",
    " "
   ]
  },
  {
   "cell_type": "markdown",
   "id": "fd27318b",
   "metadata": {
    "hidden": true
   },
   "source": [
    "![img](https://github.com/Jcnok/digitalinnovationone/blob/main/Unimed-BH%20-%20Ci%C3%AAncia%20de%20Dados/AWS/desafio_athena/quicksight/6.png?raw=true)"
   ]
  },
  {
   "cell_type": "markdown",
   "id": "6c60f494",
   "metadata": {
    "hidden": true
   },
   "source": [
    "### - Passo 7:\n",
    "    - Marque consulte sus dados diretamente, pois o conjunto é bem pequeno.\n",
    "    - A opção Spice é mais rápida porém o custo é maior.\n",
    "    - Clicle em Editar/Pre-visualizar.\n",
    "<a id=\"ancora5.7\"></a>\n",
    "[voltar](#ancora)"
   ]
  },
  {
   "cell_type": "markdown",
   "id": "0fa3c75f",
   "metadata": {
    "hidden": true
   },
   "source": [
    "![img](https://github.com/Jcnok/digitalinnovationone/blob/main/Unimed-BH%20-%20Ci%C3%AAncia%20de%20Dados/AWS/desafio_athena/quicksight/7.png?raw=true)"
   ]
  },
  {
   "cell_type": "markdown",
   "id": "fb0b9be5",
   "metadata": {
    "hidden": true
   },
   "source": [
    "### - Passo 8:\n",
    "    - Essa é a tela para principal do QuickSight.\n",
    "    - Repare que ao lado a banco de dados já está disponível.\n",
    "    - Agora será necessário gastar um pouco de tempo para conhecer a ferramenta.\n",
    "<a id=\"ancora5.8\"></a>\n",
    "[voltar](#ancora)"
   ]
  },
  {
   "cell_type": "markdown",
   "id": "8ede1587",
   "metadata": {
    "hidden": true
   },
   "source": [
    "![img](https://github.com/Jcnok/digitalinnovationone/blob/main/Unimed-BH%20-%20Ci%C3%AAncia%20de%20Dados/AWS/desafio_athena/quicksight/8.png?raw=true)"
   ]
  },
  {
   "cell_type": "markdown",
   "id": "9f982a5e",
   "metadata": {
    "hidden": true
   },
   "source": [
    "### - **Dash criado para aprendizagem**.\n",
    "<a id=\"ancora5.9\"></a>\n",
    "[voltar](#ancora)"
   ]
  },
  {
   "cell_type": "markdown",
   "id": "e1c8bfae",
   "metadata": {
    "hidden": true
   },
   "source": [
    "![img](https://github.com/Jcnok/digitalinnovationone/blob/main/Unimed-BH%20-%20Ci%C3%AAncia%20de%20Dados/AWS/desafio_athena/quicksight/desafio_quicksight.png?raw=true)"
   ]
  },
  {
   "cell_type": "code",
   "execution_count": null,
   "id": "8d1f8ddd",
   "metadata": {
    "hidden": true
   },
   "outputs": [],
   "source": []
  }
 ],
 "metadata": {
  "kernelspec": {
   "display_name": "Python 3 (ipykernel)",
   "language": "python",
   "name": "python3"
  },
  "language_info": {
   "codemirror_mode": {
    "name": "ipython",
    "version": 3
   },
   "file_extension": ".py",
   "mimetype": "text/x-python",
   "name": "python",
   "nbconvert_exporter": "python",
   "pygments_lexer": "ipython3",
   "version": "3.9.12"
  }
 },
 "nbformat": 4,
 "nbformat_minor": 5
}
