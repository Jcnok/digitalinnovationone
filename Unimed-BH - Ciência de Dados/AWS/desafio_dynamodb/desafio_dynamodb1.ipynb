{
 "cells": [
  {
   "cell_type": "markdown",
   "id": "863a132d",
   "metadata": {},
   "source": [
    "# Desafio dynamodb"
   ]
  },
  {
   "cell_type": "markdown",
   "id": "7f634420",
   "metadata": {},
   "source": [
    "![img](https://github.com/Jcnok/digitalinnovationone/blob/main/Unimed-BH%20-%20Ci%C3%AAncia%20de%20Dados/AWS/desafio_dynamodb/dynamo_boto3_python.jpg?raw=true)"
   ]
  },
  {
   "cell_type": "markdown",
   "id": "4a38e8e6",
   "metadata": {},
   "source": [
    "* **O Amazon DynamoDB é um serviço de banco de dados NoSQl totalmente gerenciado que fornece um desempenho rápido e previsível com escalabilidade integrada. Por ser gerenciado, trata de todo o provisionamento, instalação, configuração de hardware, replicação, correção de software e escalabilidade de cluster.**\n",
    "* **Para o projeto foram utilizados a biblioteca [boto3](https://boto3.amazonaws.com/v1/documentation/api/latest/guide/dynamodb.html) uma sdk da aws para conexão ao dynamodb pelo jupyter notebook, utilizei também o console [aws CLI](https://docs.aws.amazon.com/pt_br/cli/latest/userguide/getting-started-install.html), um usuário com as devidas permissões de acesso ao dynamoDB da AWS. Todo os aquivos do projeto estão disponíveis no reposistório.**\n",
    "* **O objetivo do desafio é colocar em prática todo o aprendizado do curso, nesse projeto irei realizar a conexão com o dynamoDB e demonstrar como criar, inserir, realizar update, consultas e deletar uma tabela via terminal e pelo boto3.**"
   ]
  },
  {
   "cell_type": "markdown",
   "id": "7bd3b948",
   "metadata": {},
   "source": [
    "### **Conexão com o dynamoDB AWS.**"
   ]
  },
  {
   "cell_type": "markdown",
   "id": "917a962f",
   "metadata": {},
   "source": [
    "- **realizando a importação da biblioteca boto3**.\n",
    "- **use o comando !pip install boto3 para instalação prévia.**"
   ]
  },
  {
   "cell_type": "code",
   "execution_count": 1,
   "id": "22f5cede",
   "metadata": {},
   "outputs": [],
   "source": [
    "import boto3\n",
    "import tqdm"
   ]
  },
  {
   "cell_type": "markdown",
   "id": "91e57a60",
   "metadata": {},
   "source": [
    "- **Realizando a conexão como o dynamoDB.**\n",
    "    - **Necessário possuir as seguintes informações da conta aws com as devidas permissões:** \n",
    "        - aws_access_key_id;\n",
    "        - aws_secret_access_key;\n",
    "        - region_name;"
   ]
  },
  {
   "cell_type": "markdown",
   "id": "abbc85f2",
   "metadata": {},
   "source": [
    "- **Segue um exemplo hipotético para se ter uma base**."
   ]
  },
  {
   "cell_type": "code",
   "execution_count": 2,
   "id": "64b393e9",
   "metadata": {},
   "outputs": [],
   "source": [
    "dynamodb = boto3.resource(service_name = 'dynamodb',region_name = 'us-east-1',\n",
    "              aws_access_key_id = 'AKIABCEDFGHIJKLMNO',\n",
    "              aws_secret_access_key = 'J876dspHuCTrmTzZfZ6cjcACLLSACDyj/JCNOKACAG/d')"
   ]
  },
  {
   "cell_type": "markdown",
   "id": "d16e8c0f",
   "metadata": {},
   "source": [
    "### **Criar uma tabela**."
   ]
  },
  {
   "cell_type": "code",
   "execution_count": 7,
   "id": "62f52af5",
   "metadata": {},
   "outputs": [
    {
     "name": "stdout",
     "output_type": "stream",
     "text": [
      "Table status: CREATING\n"
     ]
    }
   ],
   "source": [
    "table = dynamodb.create_table(\n",
    "        TableName='Music',\n",
    "        KeySchema=[\n",
    "            {\n",
    "                'AttributeName': 'Artist',\n",
    "                'KeyType': 'HASH'  # Partition key\n",
    "            },\n",
    "            {\n",
    "                'AttributeName': 'SongTitle',\n",
    "                'KeyType': 'RANGE'  # Sort key\n",
    "            }\n",
    "        ],\n",
    "        AttributeDefinitions=[\n",
    "            {\n",
    "                'AttributeName': 'Artist',\n",
    "                'AttributeType': 'S'\n",
    "            },\n",
    "            {\n",
    "                'AttributeName': 'SongTitle',\n",
    "                'AttributeType': 'S'\n",
    "            },\n",
    " \n",
    "        ],\n",
    "        ProvisionedThroughput={\n",
    "            'ReadCapacityUnits': 10,\n",
    "            'WriteCapacityUnits': 5\n",
    "        }\n",
    "    )        \n",
    "print(\"Table status:\", table.table_status)"
   ]
  },
  {
   "cell_type": "markdown",
   "id": "4ecd82a2",
   "metadata": {},
   "source": [
    "- **A tabela foi criada com sucesso na aws conforme o print abaixo.**"
   ]
  },
  {
   "cell_type": "markdown",
   "id": "acf0819f",
   "metadata": {},
   "source": [
    "![img](https://github.com/Jcnok/digitalinnovationone/blob/main/Unimed-BH%20-%20Ci%C3%AAncia%20de%20Dados/AWS/desafio_dynamodb/create_table.png?raw=true)"
   ]
  },
  {
   "cell_type": "markdown",
   "id": "363d6e57",
   "metadata": {},
   "source": [
    "### **Inserir um item**."
   ]
  },
  {
   "cell_type": "markdown",
   "id": "51e38019",
   "metadata": {},
   "source": [
    "- **Primeiro vamos visualizar o arquivo .json que será utilizado para inserir 1 registro na tabela.**"
   ]
  },
  {
   "cell_type": "code",
   "execution_count": 8,
   "id": "fa222cdb",
   "metadata": {},
   "outputs": [
    {
     "data": {
      "text/plain": [
       "{'Artist': 'Iron Maiden',\n",
       " 'SongTitle': 'Chains of Misery',\n",
       " 'AlbumTitle': 'Fear of the Dark',\n",
       " 'SongYear': '1992'}"
      ]
     },
     "execution_count": 8,
     "metadata": {},
     "output_type": "execute_result"
    }
   ],
   "source": [
    "# Acessando o arquivo json\n",
    "import json\n",
    "file = open('src/itemmusic1.json','r')\n",
    "file = file.read()\n",
    "data_file = json.loads(file)\n",
    "data_file"
   ]
  },
  {
   "cell_type": "markdown",
   "id": "18aee5bf",
   "metadata": {},
   "source": [
    "- **Agora vamos realizar a conexão com a tabela Music.**"
   ]
  },
  {
   "cell_type": "code",
   "execution_count": 11,
   "id": "b4e7ffbf",
   "metadata": {},
   "outputs": [
    {
     "data": {
      "text/plain": [
       "'ACTIVE'"
      ]
     },
     "execution_count": 11,
     "metadata": {},
     "output_type": "execute_result"
    }
   ],
   "source": [
    "### Acessando a tabela Music\n",
    "music_table = dynamodb.Table('Music')\n",
    "music_table.table_status"
   ]
  },
  {
   "cell_type": "markdown",
   "id": "01892491",
   "metadata": {},
   "source": [
    "- **Por fim vamos inserir o registro do arquivo json na tabela Music**."
   ]
  },
  {
   "cell_type": "code",
   "execution_count": 12,
   "id": "8397d4fc",
   "metadata": {},
   "outputs": [],
   "source": [
    "# Inserindo um item.\n",
    "response = music_table.put_item(Item = data_file )"
   ]
  },
  {
   "cell_type": "markdown",
   "id": "8a92fe8c",
   "metadata": {},
   "source": [
    "![img](https://github.com/Jcnok/digitalinnovationone/blob/main/Unimed-BH%20-%20Ci%C3%AAncia%20de%20Dados/AWS/desafio_dynamodb/item_create.png?raw=true)"
   ]
  },
  {
   "cell_type": "markdown",
   "id": "39121a2b",
   "metadata": {},
   "source": [
    "### **Inserir múltiplos itens**."
   ]
  },
  {
   "cell_type": "markdown",
   "id": "012cc6db",
   "metadata": {},
   "source": [
    "- **Visualizando os registros do arquivo .json**."
   ]
  },
  {
   "cell_type": "code",
   "execution_count": 13,
   "id": "6335b27c",
   "metadata": {},
   "outputs": [
    {
     "data": {
      "text/plain": [
       "[{'Artist': 'Iron Maiden',\n",
       "  'SongTitle': 'Wasting Love',\n",
       "  'AlbumTitle': 'Fear of the Dark Live',\n",
       "  'SongYear': '1992'},\n",
       " {'Artist': 'Iron Maiden',\n",
       "  'SongTitle': 'Weekend Warrior',\n",
       "  'AlbumTitle': 'Fear of the Dark',\n",
       "  'SongYear': '1992'},\n",
       " {'Artist': 'Iron Maiden',\n",
       "  'SongTitle': 'Fear of the Dark',\n",
       "  'AlbumTitle': 'Fear of the Dark Tour',\n",
       "  'SongYear': '1992'}]"
      ]
     },
     "execution_count": 13,
     "metadata": {},
     "output_type": "execute_result"
    }
   ],
   "source": [
    "# Acessando o arquivo json\n",
    "import json\n",
    "file = open('src/batchmusic1.json','r')\n",
    "file = file.read()\n",
    "data_file = json.loads(file)\n",
    "data_file"
   ]
  },
  {
   "cell_type": "markdown",
   "id": "ae181200",
   "metadata": {},
   "source": [
    "- **Inserindo todos os registros de uma só vez**."
   ]
  },
  {
   "cell_type": "code",
   "execution_count": 14,
   "id": "f025c700",
   "metadata": {},
   "outputs": [
    {
     "name": "stderr",
     "output_type": "stream",
     "text": [
      "100%|████████████████████████████████████████████████████████████████████████████████████████████| 3/3 [00:00<?, ?it/s]\n"
     ]
    }
   ],
   "source": [
    "# Criando multiplos items com batch\n",
    "with music_table.batch_writer() as batch:\n",
    "    for record in tqdm.tqdm(data_file):\n",
    "        batch.put_item(Item = record)"
   ]
  },
  {
   "cell_type": "markdown",
   "id": "0b501aa4",
   "metadata": {},
   "source": [
    "![img](https://github.com/Jcnok/digitalinnovationone/blob/main/Unimed-BH%20-%20Ci%C3%AAncia%20de%20Dados/AWS/desafio_dynamodb/create_multiple_item.png?raw=true)"
   ]
  },
  {
   "cell_type": "markdown",
   "id": "f21ecf87",
   "metadata": {},
   "source": [
    "### **Criar um index global secundário baseado no título do álbum**."
   ]
  },
  {
   "cell_type": "markdown",
   "id": "8f1c8060",
   "metadata": {},
   "source": [
    "- **O objetivo do index secundário é permitir realizar consultas diretas sem a necessidde do indice primário**."
   ]
  },
  {
   "cell_type": "code",
   "execution_count": 15,
   "id": "2e8b53dd",
   "metadata": {},
   "outputs": [],
   "source": [
    "table = dynamodb.Table('Music') \n",
    "response = table.update(\n",
    "    AttributeDefinitions=[\n",
    "        {\n",
    "            'AttributeName': 'AlbumTitle',\n",
    "            'AttributeType': 'S'\n",
    "        },\n",
    "    ],\n",
    "    GlobalSecondaryIndexUpdates=[\n",
    "          {              \n",
    "              'Create': {\n",
    "                  'IndexName': 'AlbumTitle-index',\n",
    "                  'KeySchema': [\n",
    "                      {\n",
    "                          'AttributeName': 'AlbumTitle',\n",
    "                          'KeyType': 'HASH'\n",
    "                      },\n",
    "                  ],\n",
    "                  'Projection': {\n",
    "                      'ProjectionType': 'ALL'                      \n",
    "                  },\n",
    "                  'ProvisionedThroughput': {\n",
    "                      'ReadCapacityUnits': 10,\n",
    "                      'WriteCapacityUnits': 5\n",
    "                  }\n",
    "              },\n",
    "              \n",
    "          },\n",
    "      ],\n",
    ")"
   ]
  },
  {
   "cell_type": "markdown",
   "id": "6f253de2",
   "metadata": {},
   "source": [
    "![img](https://github.com/Jcnok/digitalinnovationone/blob/main/Unimed-BH%20-%20Ci%C3%AAncia%20de%20Dados/AWS/desafio_dynamodb/index_global_sec_album_title.png?raw=true)"
   ]
  },
  {
   "cell_type": "markdown",
   "id": "a7de4f24",
   "metadata": {},
   "source": [
    "###  **Criar um index global secundário baseado no nome do artista e no título do álbum**."
   ]
  },
  {
   "cell_type": "code",
   "execution_count": 19,
   "id": "25694472",
   "metadata": {},
   "outputs": [],
   "source": [
    "table = dynamodb.Table('Music') \n",
    "response = table.update(\n",
    "    AttributeDefinitions=[\n",
    "        {\n",
    "            'AttributeName': 'Artist',\n",
    "            'AttributeType': 'S'\n",
    "        },\n",
    "        {\n",
    "            'AttributeName': 'AlbumTitle',\n",
    "            'AttributeType': 'S'\n",
    "        },\n",
    "    ],\n",
    "    GlobalSecondaryIndexUpdates=[\n",
    "          {              \n",
    "              'Create': {\n",
    "                  'IndexName': 'ArtistAlbumTitle-index',\n",
    "                  'KeySchema': [\n",
    "                      {\n",
    "                          'AttributeName': 'Artist',\n",
    "                          'KeyType': 'HASH'\n",
    "                      },\n",
    "                      {\n",
    "                          'AttributeName': 'AlbumTitle',\n",
    "                          'KeyType': 'RANGE'\n",
    "                      },\n",
    "                  ],\n",
    "                  'Projection': {\n",
    "                      'ProjectionType': 'ALL'                      \n",
    "                  },\n",
    "                  'ProvisionedThroughput': {\n",
    "                      'ReadCapacityUnits': 10,\n",
    "                      'WriteCapacityUnits': 5\n",
    "                  }\n",
    "              },\n",
    "              \n",
    "          },\n",
    "      ],\n",
    ")"
   ]
  },
  {
   "cell_type": "markdown",
   "id": "92e6a0c1",
   "metadata": {},
   "source": [
    "![img](https://github.com/Jcnok/digitalinnovationone/blob/main/Unimed-BH%20-%20Ci%C3%AAncia%20de%20Dados/AWS/desafio_dynamodb/index_global_sec_album_artist.png?raw=true)"
   ]
  },
  {
   "cell_type": "markdown",
   "id": "af175e53",
   "metadata": {},
   "source": [
    "### **Criar um index global secundário baseado no título da música e no ano**."
   ]
  },
  {
   "cell_type": "code",
   "execution_count": 18,
   "id": "f14016d5",
   "metadata": {},
   "outputs": [],
   "source": [
    "table = dynamodb.Table('Music') \n",
    "response = table.update(\n",
    "    AttributeDefinitions=[\n",
    "        {\n",
    "            'AttributeName': 'SongTitle',\n",
    "            'AttributeType': 'S'\n",
    "        },\n",
    "        {\n",
    "            'AttributeName': 'SongYear',\n",
    "            'AttributeType': 'S'\n",
    "        },\n",
    "    ],\n",
    "    GlobalSecondaryIndexUpdates=[\n",
    "          {              \n",
    "              'Create': {\n",
    "                  'IndexName': 'SongTitleYear-index',\n",
    "                  'KeySchema': [\n",
    "                      {\n",
    "                          'AttributeName': 'SongTitle',\n",
    "                          'KeyType': 'HASH'\n",
    "                      },\n",
    "                      {\n",
    "                          'AttributeName': 'SongYear',\n",
    "                          'KeyType': 'RANGE'\n",
    "                      },\n",
    "                  ],\n",
    "                  'Projection': {\n",
    "                      'ProjectionType': 'ALL'                      \n",
    "                  },\n",
    "                  'ProvisionedThroughput': {\n",
    "                      'ReadCapacityUnits': 10,\n",
    "                      'WriteCapacityUnits': 5\n",
    "                  }\n",
    "              },\n",
    "              \n",
    "          },\n",
    "      ],\n",
    ")"
   ]
  },
  {
   "cell_type": "markdown",
   "id": "d98edabf",
   "metadata": {},
   "source": [
    "![img](https://github.com/Jcnok/digitalinnovationone/blob/main/Unimed-BH%20-%20Ci%C3%AAncia%20de%20Dados/AWS/desafio_dynamodb/index_global_songtitleyear.png?raw=true)"
   ]
  },
  {
   "cell_type": "markdown",
   "id": "53c4af04",
   "metadata": {},
   "source": [
    "### **Pesquisar item por artista e titulo da musíca**."
   ]
  },
  {
   "cell_type": "markdown",
   "id": "a9679882",
   "metadata": {},
   "source": [
    "- **Existem algumas formas de realizar as consultas, essa parte acredito ser uma das mais importantes para o Cientista de Dados, e esse foi um dos motivos que me levaram a pesquisar sobre o boto3 para realizar as queries por script python ou nesse caso, diretamente aqui pelo jupyter notebook**.\n",
    "- **Irei demonstrar algumas alternativas de consulta**."
   ]
  },
  {
   "cell_type": "markdown",
   "id": "32f046f1",
   "metadata": {},
   "source": [
    "- **Acessando o arquivo .json para consulta**."
   ]
  },
  {
   "cell_type": "code",
   "execution_count": 20,
   "id": "dbaa75ea",
   "metadata": {},
   "outputs": [
    {
     "data": {
      "text/plain": [
       "{':artist': {'S': 'Iron Maiden'}, ':title': {'S': 'Weekend Warrior'}}"
      ]
     },
     "execution_count": 20,
     "metadata": {},
     "output_type": "execute_result"
    }
   ],
   "source": [
    "# Acessando o arquivo json\n",
    "import json\n",
    "file = open('src/keyconditions.json','r')\n",
    "file = file.read()\n",
    "data_file = json.loads(file)\n",
    "data_file"
   ]
  },
  {
   "cell_type": "markdown",
   "id": "ce70705f",
   "metadata": {},
   "source": [
    "- **Rodando a consulta via terminal pelo jupyter notebook**."
   ]
  },
  {
   "cell_type": "code",
   "execution_count": 23,
   "id": "124c3fbb",
   "metadata": {},
   "outputs": [
    {
     "name": "stdout",
     "output_type": "stream",
     "text": [
      "{"
     ]
    },
    {
     "name": "stderr",
     "output_type": "stream",
     "text": [
      "Associa‡Æo de arquivo nÆo encontrada para a extensÆo .py\n"
     ]
    },
    {
     "name": "stdout",
     "output_type": "stream",
     "text": [
      "\n",
      "    \"Items\": [\n",
      "        {\n",
      "            \"AlbumTitle\": {\n",
      "                \"S\": \"Fear of the Dark\"\n",
      "            },\n",
      "            \"Artist\": {\n",
      "                \"S\": \"Iron Maiden\"\n",
      "            },\n",
      "            \"SongYear\": {\n",
      "                \"S\": \"1992\"\n",
      "            },\n",
      "            \"SongTitle\": {\n",
      "                \"S\": \"Weekend Warrior\"\n",
      "            }\n",
      "        }\n",
      "    ],\n",
      "    \"Count\": 1,\n",
      "    \"ScannedCount\": 1,\n",
      "    \"ConsumedCapacity\": null\n",
      "}\n"
     ]
    }
   ],
   "source": [
    "!aws dynamodb query \\\n",
    "    --table-name Music \\\n",
    "    --key-condition-expression \"Artist = :artist and SongTitle = :title\" \\\n",
    "    --expression-attribute-values file://src//keyconditions.json"
   ]
  },
  {
   "cell_type": "markdown",
   "id": "8d89f091",
   "metadata": {},
   "source": [
    "- **Print da consulta realizada pelo terminal**.\n",
    "*obs:executar o script na pasta raiz do arquivo json conforme a imagem abaixo."
   ]
  },
  {
   "cell_type": "code",
   "execution_count": null,
   "id": "35a6e059",
   "metadata": {},
   "outputs": [],
   "source": [
    "#Script via CLI aws.\n",
    "'''\n",
    "aws dynamodb query \\\n",
    "    --table-name Music \\\n",
    "    --key-condition-expression \"Artist = :artist and SongTitle = :title\" \\\n",
    "    --expression-attribute-values file://keyconditions.json\n",
    "'''"
   ]
  },
  {
   "cell_type": "markdown",
   "id": "cd639ca8",
   "metadata": {},
   "source": [
    "![img](https://github.com/Jcnok/digitalinnovationone/blob/main/Unimed-BH%20-%20Ci%C3%AAncia%20de%20Dados/AWS/desafio_dynamodb/consulta1.png?raw=true)"
   ]
  },
  {
   "cell_type": "markdown",
   "id": "d8e02cc4",
   "metadata": {},
   "source": [
    "- **Executando a mesma consulta usando a lib boto3 direto no jupyter notebook.**\n",
    "- **Essa acredito ser uma das formas mais interessantes, pois podemos ter acesso aos dados de forma imediata para uma Análise Exploratória por exemplo.**"
   ]
  },
  {
   "cell_type": "code",
   "execution_count": 70,
   "id": "1dca8609",
   "metadata": {},
   "outputs": [
    {
     "name": "stdout",
     "output_type": "stream",
     "text": [
      "[{'AlbumTitle': 'Fear of the Dark', 'Artist': 'Iron Maiden', 'SongYear': '1992', 'SongTitle': 'Weekend Warrior'}]\n"
     ]
    }
   ],
   "source": [
    "import boto3\n",
    "from boto3.dynamodb.conditions import Key, Attr\n",
    "dynamodb = boto3.resource('dynamodb', region_name='us-east-1')\n",
    "table = dynamodb.Table('Music')\n",
    "response = table.scan(\n",
    "    FilterExpression=Attr('Artist').eq(\"Iron Maiden\") & Attr('SongTitle').eq('Weekend Warrior')\n",
    ")\n",
    "items = response['Items']\n",
    "print(items)"
   ]
  },
  {
   "cell_type": "markdown",
   "id": "4e6f47bb",
   "metadata": {},
   "source": [
    "- **Utilizando o atributo get para mesma consulta**."
   ]
  },
  {
   "cell_type": "code",
   "execution_count": 44,
   "id": "670430ed",
   "metadata": {},
   "outputs": [
    {
     "name": "stdout",
     "output_type": "stream",
     "text": [
      "{'AlbumTitle': 'Fear of the Dark', 'Artist': 'Iron Maiden', 'SongYear': '1992', 'SongTitle': 'Weekend Warrior'}\n"
     ]
    }
   ],
   "source": [
    "response = table.get_item(\n",
    "    Key={\n",
    "        'Artist': 'Iron Maiden',\n",
    "        'SongTitle': 'Weekend Warrior'\n",
    "    }\n",
    ")\n",
    "item = response['Item']\n",
    "print(item)"
   ]
  },
  {
   "cell_type": "markdown",
   "id": "e0a13d05",
   "metadata": {},
   "source": [
    "### **Pesquisa pelo index secundário baseado no título do álbum**."
   ]
  },
  {
   "cell_type": "markdown",
   "id": "caa72592",
   "metadata": {},
   "source": [
    "- **Não seria possível a consulta dessa forma se não tivéssemos criado os índices secundários**."
   ]
  },
  {
   "cell_type": "code",
   "execution_count": 115,
   "id": "47d364a6",
   "metadata": {},
   "outputs": [
    {
     "data": {
      "text/plain": [
       "{':name': {'S': 'Fear of the Dark'}}"
      ]
     },
     "execution_count": 115,
     "metadata": {},
     "output_type": "execute_result"
    }
   ],
   "source": [
    "# Acessando o arquivo json\n",
    "import json\n",
    "file = open('src/AlbumTitle.json','r')\n",
    "file = file.read()\n",
    "data_file = json.loads(file)\n",
    "data_file"
   ]
  },
  {
   "cell_type": "markdown",
   "id": "c2fae6a9",
   "metadata": {},
   "source": [
    "- **Realizando a pesquisa via terminal**."
   ]
  },
  {
   "cell_type": "code",
   "execution_count": 116,
   "id": "3fcfd292",
   "metadata": {},
   "outputs": [
    {
     "name": "stdout",
     "output_type": "stream",
     "text": [
      "{\n",
      "    \"Items\": [\n",
      "        {\n",
      "            \"AlbumTitle\": {\n",
      "                \"S\": \"Fear of the Dark\"\n",
      "            },\n",
      "            \"Artist\": {\n",
      "                \"S\": \"Iron Maiden\"\n",
      "            },\n",
      "            \"SongYear\": {\n",
      "                \"S\": \"1992\"\n",
      "            },\n",
      "            \"SongTitle\": {\n",
      "                \"S\": \"Weekend Warrior\"\n",
      "            }\n",
      "        },\n",
      "        {\n",
      "            \"AlbumTitle\": {\n",
      "                \"S\": \"Fear of the Dark\"\n",
      "            },\n",
      "            \"Artist\": {\n",
      "                \"S\": \"Iron Maiden\"\n",
      "            },\n",
      "            \"SongYear\": {\n",
      "                \"S\": \"1992\"\n",
      "            },\n",
      "            \"SongTitle\": {\n",
      "                \"S\": \"Chains of Misery\"\n",
      "            }\n",
      "        }\n",
      "    ],\n",
      "    \"Count\": 2,\n",
      "    \"ScannedCount\": 2,\n",
      "    \"ConsumedCapacity\": null\n",
      "}\n"
     ]
    },
    {
     "name": "stderr",
     "output_type": "stream",
     "text": [
      "Associa‡Æo de arquivo nÆo encontrada para a extensÆo .py\n"
     ]
    }
   ],
   "source": [
    "# Realizando a consulta via terminal\n",
    "!aws dynamodb query \\\n",
    "    --table-name Music \\\n",
    "    --index-name AlbumTitle-index \\\n",
    "    --key-condition-expression \"AlbumTitle = :name\" \\\n",
    "    --expression-attribute-values file://src//AlbumTitle.json"
   ]
  },
  {
   "cell_type": "markdown",
   "id": "4c951bd6",
   "metadata": {},
   "source": [
    "- **Realizando a pesquisa com a biblioteca boto3 via jupyter notebook**."
   ]
  },
  {
   "cell_type": "code",
   "execution_count": 117,
   "id": "dc947312",
   "metadata": {},
   "outputs": [
    {
     "name": "stdout",
     "output_type": "stream",
     "text": [
      "[{'AlbumTitle': 'Fear of the Dark', 'Artist': 'Iron Maiden', 'SongYear': '1992', 'SongTitle': 'Weekend Warrior'}, {'AlbumTitle': 'Fear of the Dark', 'Artist': 'Iron Maiden', 'SongYear': '1992', 'SongTitle': 'Chains of Misery'}]\n"
     ]
    }
   ],
   "source": [
    "import boto3\n",
    "from boto3.dynamodb.conditions import Key, Attr\n",
    "dynamodb = boto3.resource('dynamodb', region_name='us-east-1')\n",
    "table = dynamodb.Table('Music')\n",
    "response = table.query(IndexName='AlbumTitle-index',KeyConditionExpression=Key('AlbumTitle').eq('Fear of the Dark'))\n",
    "items = response['Items']\n",
    "print(items)"
   ]
  },
  {
   "cell_type": "markdown",
   "id": "57014212",
   "metadata": {},
   "source": [
    "### **Pesquisa pelo index secundário baseado no nome do artista e no título do álbum**"
   ]
  },
  {
   "cell_type": "markdown",
   "id": "890dbcde",
   "metadata": {},
   "source": [
    "- **Realizando a consulta pelo terminal via jupyter**."
   ]
  },
  {
   "cell_type": "code",
   "execution_count": 121,
   "id": "067399f8",
   "metadata": {},
   "outputs": [
    {
     "name": "stdout",
     "output_type": "stream",
     "text": [
      "{\n",
      "    \"Items\": [\n",
      "        {\n",
      "            \"AlbumTitle\": {\n",
      "                \"S\": \"Fear of the Dark\"\n",
      "            },\n",
      "            \"Artist\": {\n",
      "                \"S\": \"Iron Maiden\"\n",
      "            },\n",
      "            \"SongYear\": {\n",
      "                \"S\": \"1992\"\n",
      "            },\n",
      "            \"SongTitle\": {\n",
      "                \"S\": \"Chains of Misery\"\n",
      "            }\n",
      "        },\n",
      "        {\n",
      "            \"AlbumTitle\": {\n",
      "                \"S\": \"Fear of the Dark\"\n",
      "            },\n",
      "            \"Artist\": {\n",
      "                \"S\": \"Iron Maiden\"\n",
      "            },\n",
      "            \"SongYear\": {\n",
      "                \"S\": \"1992\"\n",
      "            },\n",
      "            \"SongTitle\": {\n",
      "                \"S\": \"Weekend Warrior\"\n",
      "            }\n",
      "        }\n",
      "    ],\n",
      "    \"Count\": 2,\n",
      "    \"ScannedCount\": 2,\n",
      "    \"ConsumedCapacity\": null\n",
      "}\n"
     ]
    },
    {
     "name": "stderr",
     "output_type": "stream",
     "text": [
      "Associa‡Æo de arquivo nÆo encontrada para a extensÆo .py\n"
     ]
    }
   ],
   "source": [
    "# Realizando a consulta via terminal\n",
    "!aws dynamodb query \\\n",
    "    --table-name Music \\\n",
    "    --index-name ArtistAlbumTitle-index \\\n",
    "    --key-condition-expression \"Artist = :v_artist and AlbumTitle = :v_title\" \\\n",
    "    --expression-attribute-values file://src//artist_albumtitle.json"
   ]
  },
  {
   "cell_type": "markdown",
   "id": "4f31262a",
   "metadata": {},
   "source": [
    "- **Realizando a pesquisa com a biblioteca boto3 via jupyter notebook**."
   ]
  },
  {
   "cell_type": "code",
   "execution_count": 122,
   "id": "0a25d79b",
   "metadata": {},
   "outputs": [
    {
     "data": {
      "text/plain": [
       "{':v_artist': {'S': 'Iron Maiden'}, ':v_title': {'S': 'Fear of the Dark'}}"
      ]
     },
     "execution_count": 122,
     "metadata": {},
     "output_type": "execute_result"
    }
   ],
   "source": [
    "# Acessando o arquivo json\n",
    "import json\n",
    "file = open('src/artist_albumtitle.json','r')\n",
    "file = file.read()\n",
    "data_file = json.loads(file)\n",
    "data_file"
   ]
  },
  {
   "cell_type": "code",
   "execution_count": 130,
   "id": "53944ebf",
   "metadata": {},
   "outputs": [
    {
     "name": "stdout",
     "output_type": "stream",
     "text": [
      "[{'AlbumTitle': 'Fear of the Dark', 'Artist': 'Iron Maiden', 'SongYear': '1992', 'SongTitle': 'Chains of Misery'}, {'AlbumTitle': 'Fear of the Dark', 'Artist': 'Iron Maiden', 'SongYear': '1992', 'SongTitle': 'Weekend Warrior'}]\n"
     ]
    }
   ],
   "source": [
    "# Realizando a query\n",
    "import boto3\n",
    "from boto3.dynamodb.conditions import Key, Attr\n",
    "dynamodb = boto3.resource('dynamodb', region_name='us-east-1')\n",
    "table = dynamodb.Table('Music')\n",
    "response = table.query(IndexName='ArtistAlbumTitle-index',KeyConditionExpression=\n",
    "                       Key('Artist').eq('Iron Maiden')&\n",
    "                       Key('AlbumTitle').eq('Fear of the Dark'))\n",
    "items = response['Items']\n",
    "print(items)"
   ]
  },
  {
   "cell_type": "markdown",
   "id": "31d3da09",
   "metadata": {},
   "source": [
    "### **Pesquisa pelo index secundário baseado no título da música e no ano**.  "
   ]
  },
  {
   "cell_type": "markdown",
   "id": "3c48f5b3",
   "metadata": {},
   "source": [
    "- **Realizando a consulta pelo terminal via jupyter.**"
   ]
  },
  {
   "cell_type": "code",
   "execution_count": 126,
   "id": "1f76f801",
   "metadata": {},
   "outputs": [
    {
     "name": "stdout",
     "output_type": "stream",
     "text": [
      "{\n",
      "    \"Items\": [\n",
      "        {\n",
      "            \"AlbumTitle\": {\n",
      "                \"S\": \"Fear of the Dark Live\"\n",
      "            },\n",
      "            \"Artist\": {\n",
      "                \"S\": \"Iron Maiden\"\n",
      "            },\n",
      "            \"SongTitle\": {\n",
      "                \"S\": \"Wasting Love\"\n",
      "            },\n",
      "            \"SongYear\": {\n",
      "                \"S\": \"1992\"\n",
      "            }\n",
      "        }\n",
      "    ],\n",
      "    \"Count\": 1,\n",
      "    \"ScannedCount\": 1,\n",
      "    \"ConsumedCapacity\": null\n",
      "}\n"
     ]
    },
    {
     "name": "stderr",
     "output_type": "stream",
     "text": [
      "Associa‡Æo de arquivo nÆo encontrada para a extensÆo .py\n"
     ]
    }
   ],
   "source": [
    "!aws dynamodb query \\\n",
    "    --table-name Music \\\n",
    "    --index-name SongTitleYear-index \\\n",
    "    --key-condition-expression \"SongTitle = :v_song and SongYear = :v_year\" \\\n",
    "    --expression-attribute-values  file://src//songtitle_year.json"
   ]
  },
  {
   "cell_type": "markdown",
   "id": "011b1c13",
   "metadata": {},
   "source": [
    "- **Realizando a pesquisa com a biblioteca boto3 via jupyter notebook**."
   ]
  },
  {
   "cell_type": "code",
   "execution_count": 127,
   "id": "428f3df2",
   "metadata": {},
   "outputs": [
    {
     "data": {
      "text/plain": [
       "{':v_song': {'S': 'Wasting Love'}, ':v_year': {'S': '1992'}}"
      ]
     },
     "execution_count": 127,
     "metadata": {},
     "output_type": "execute_result"
    }
   ],
   "source": [
    "# Acessando o arquivo json\n",
    "import json\n",
    "file = open('src/songtitle_year.json','r')\n",
    "file = file.read()\n",
    "data_file = json.loads(file)\n",
    "data_file"
   ]
  },
  {
   "cell_type": "code",
   "execution_count": 129,
   "id": "774ce1ee",
   "metadata": {},
   "outputs": [
    {
     "name": "stdout",
     "output_type": "stream",
     "text": [
      "[{'AlbumTitle': 'Fear of the Dark Live', 'Artist': 'Iron Maiden', 'SongTitle': 'Wasting Love', 'SongYear': '1992'}]\n"
     ]
    }
   ],
   "source": [
    "# Realizando a query\n",
    "import boto3\n",
    "from boto3.dynamodb.conditions import Key, Attr\n",
    "dynamodb = boto3.resource('dynamodb', region_name='us-east-1')\n",
    "table = dynamodb.Table('Music')\n",
    "response = table.query(IndexName='SongTitleYear-index',KeyConditionExpression=\n",
    "                       Key('SongTitle').eq('Wasting Love')&\n",
    "                       Key('SongYear').eq('1992'))\n",
    "items = response['Items']\n",
    "print(items)"
   ]
  },
  {
   "cell_type": "markdown",
   "id": "946275c5",
   "metadata": {},
   "source": [
    "### **Deletando a tabela**"
   ]
  },
  {
   "cell_type": "markdown",
   "id": "d67cfa5a",
   "metadata": {},
   "source": [
    "* **deletando a tabela Music com o skd boto3**."
   ]
  },
  {
   "cell_type": "code",
   "execution_count": 132,
   "id": "660024b5",
   "metadata": {},
   "outputs": [],
   "source": [
    "import boto3\n",
    "client = boto3.client('dynamodb')\n",
    "response = client.delete_table(\n",
    "    TableName='Music'\n",
    ")"
   ]
  },
  {
   "cell_type": "markdown",
   "id": "6c37e6aa",
   "metadata": {},
   "source": [
    "* **Com isso finalizo o desafio dynamoDB do módulo 4 - Imersão Cloud Computer**.\n",
    "* **Caso alguém tenha interesse em se aprofundar segue o link da documentação do [boto3](https://boto3.amazonaws.com/v1/documentation/api/latest/index.html)**."
   ]
  }
 ],
 "metadata": {
  "kernelspec": {
   "display_name": "Python 3 (ipykernel)",
   "language": "python",
   "name": "python3"
  },
  "language_info": {
   "codemirror_mode": {
    "name": "ipython",
    "version": 3
   },
   "file_extension": ".py",
   "mimetype": "text/x-python",
   "name": "python",
   "nbconvert_exporter": "python",
   "pygments_lexer": "ipython3",
   "version": "3.9.12"
  }
 },
 "nbformat": 4,
 "nbformat_minor": 5
}
