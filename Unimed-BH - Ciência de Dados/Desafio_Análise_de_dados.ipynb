{
 "cells": [
  {
   "cell_type": "markdown",
   "id": "bfda4eba",
   "metadata": {},
   "source": [
    "# Gapminder World\n",
    "Dataset from Gapminder World website from 1952 to 2007.\n",
    "\n",
    "**Os dados foram obtidos do kaggle:**[Gapminder World](https://www.kaggle.com/datasets/tklimonova/gapminder-datacamp-2007?datasetId=373567&sortBy=voteCount&select=gapminder_full.csv)\n"
   ]
  },
  {
   "cell_type": "markdown",
   "id": "4530a377",
   "metadata": {},
   "source": [
    "<a id=\"ancora\"></a>\n",
    "# Índice\n",
    "* [Problema](#ancora1)\n",
    "* [Sobre os Dados](#ancora2)\n",
    "* [Limpeza e Pré-processamento](#ancora3)\n",
    "    * [Transformação e Manipulação](#ancora3.1)    \n",
    "    * [Registros missing](#ancora3.3) \n",
    "        \n",
    "* [Análise Exploratória](#ancora4)\n",
    "    * [Existe alguma correlação do PIB com o aumento da expectativa de vida?](#ancora4.1)\n",
    "    * [Quais os 5 Países com maior e menor PIB per capita em 2007?](#ancora4.2)\n",
    "    * [Qual a expectativa de vida por continente no ano de 2007?](#ancora4.3)\n",
    "    * [Informe os 5 Países com maior e menor expectativa de vida:](#ancora4.4)\n",
    "    * [Informe o total da população por Continente:](#ancora4.5)\n",
    "    * [Quais os 5 países com maior e menor população em 2007?](#ancora4.6)\n"
   ]
  },
  {
   "cell_type": "markdown",
   "id": "3da70526",
   "metadata": {
    "heading_collapsed": true
   },
   "source": [
    "## **Sobre os Dados**\n",
    "<a id=\"ancora2\"></a>"
   ]
  },
  {
   "cell_type": "markdown",
   "id": "edd75e54",
   "metadata": {
    "hidden": true
   },
   "source": [
    "### O conjunto de dados é composto pelas seguintes variáveis:\n",
    "\n",
    "* **country**: País;\n",
    "* **year**: anos de 1952 a 2007;\n",
    "* **population**:População em quanidade;\n",
    "* **continent**: Continente;\n",
    "* **life_exp**: expectativa de vida;\n",
    "* **gdp_cap**: PIB;"
   ]
  },
  {
   "cell_type": "markdown",
   "id": "553acfa9",
   "metadata": {
    "heading_collapsed": true
   },
   "source": [
    "## **Limpeza e Pré-processamento** \n",
    "<a id=\"ancora3\"></a>\n"
   ]
  },
  {
   "cell_type": "code",
   "execution_count": 63,
   "id": "18c02bcb",
   "metadata": {
    "hidden": true
   },
   "outputs": [],
   "source": [
    "# importação das bibliotecas\n",
    "#importando as libs para a análise.\n",
    "import pandas as pd \n",
    "import numpy as np\n",
    "import statsmodels as st\n",
    "import matplotlib.pyplot as plt \n",
    "import seaborn as sns\n",
    "import plotly.express as px\n",
    "import cufflinks as cf\n",
    "from plotly.offline import plot, iplot\n",
    "import warnings\n",
    "warnings.filterwarnings(\"ignore\")\n",
    "import missingno as missing\n",
    "pd.set_option('display.float_format', lambda x: '%.3f' % x)\n",
    " "
   ]
  },
  {
   "cell_type": "code",
   "execution_count": 27,
   "id": "e1e3794f",
   "metadata": {
    "hidden": true
   },
   "outputs": [],
   "source": [
    "# Carregando o dataset, convertendo a coluna year para o tipo date e selecionando a mesma como index\n",
    "df = pd.read_csv('../datasets/gapminder_full.csv',header=0,index_col=1, parse_dates=True)"
   ]
  },
  {
   "cell_type": "code",
   "execution_count": 87,
   "id": "b7dcd009",
   "metadata": {
    "hidden": true
   },
   "outputs": [],
   "source": [
    "# Carregando o dataset\n",
    "df = pd.read_csv('../datasets/gapminder_full.csv')"
   ]
  },
  {
   "cell_type": "code",
   "execution_count": 88,
   "id": "a2a0ffd8",
   "metadata": {
    "hidden": true
   },
   "outputs": [
    {
     "data": {
      "text/html": [
       "<div>\n",
       "<style scoped>\n",
       "    .dataframe tbody tr th:only-of-type {\n",
       "        vertical-align: middle;\n",
       "    }\n",
       "\n",
       "    .dataframe tbody tr th {\n",
       "        vertical-align: top;\n",
       "    }\n",
       "\n",
       "    .dataframe thead th {\n",
       "        text-align: right;\n",
       "    }\n",
       "</style>\n",
       "<table border=\"1\" class=\"dataframe\">\n",
       "  <thead>\n",
       "    <tr style=\"text-align: right;\">\n",
       "      <th></th>\n",
       "      <th>country</th>\n",
       "      <th>year</th>\n",
       "      <th>population</th>\n",
       "      <th>continent</th>\n",
       "      <th>life_exp</th>\n",
       "      <th>gdp_cap</th>\n",
       "    </tr>\n",
       "  </thead>\n",
       "  <tbody>\n",
       "    <tr>\n",
       "      <th>0</th>\n",
       "      <td>Afghanistan</td>\n",
       "      <td>1952</td>\n",
       "      <td>8425333</td>\n",
       "      <td>Asia</td>\n",
       "      <td>28.801</td>\n",
       "      <td>779.445</td>\n",
       "    </tr>\n",
       "    <tr>\n",
       "      <th>1</th>\n",
       "      <td>Afghanistan</td>\n",
       "      <td>1957</td>\n",
       "      <td>9240934</td>\n",
       "      <td>Asia</td>\n",
       "      <td>30.332</td>\n",
       "      <td>820.853</td>\n",
       "    </tr>\n",
       "    <tr>\n",
       "      <th>2</th>\n",
       "      <td>Afghanistan</td>\n",
       "      <td>1962</td>\n",
       "      <td>10267083</td>\n",
       "      <td>Asia</td>\n",
       "      <td>31.997</td>\n",
       "      <td>853.101</td>\n",
       "    </tr>\n",
       "    <tr>\n",
       "      <th>3</th>\n",
       "      <td>Afghanistan</td>\n",
       "      <td>1967</td>\n",
       "      <td>11537966</td>\n",
       "      <td>Asia</td>\n",
       "      <td>34.020</td>\n",
       "      <td>836.197</td>\n",
       "    </tr>\n",
       "    <tr>\n",
       "      <th>4</th>\n",
       "      <td>Afghanistan</td>\n",
       "      <td>1972</td>\n",
       "      <td>13079460</td>\n",
       "      <td>Asia</td>\n",
       "      <td>36.088</td>\n",
       "      <td>739.981</td>\n",
       "    </tr>\n",
       "  </tbody>\n",
       "</table>\n",
       "</div>"
      ],
      "text/plain": [
       "       country  year  population continent  life_exp  gdp_cap\n",
       "0  Afghanistan  1952     8425333      Asia    28.801  779.445\n",
       "1  Afghanistan  1957     9240934      Asia    30.332  820.853\n",
       "2  Afghanistan  1962    10267083      Asia    31.997  853.101\n",
       "3  Afghanistan  1967    11537966      Asia    34.020  836.197\n",
       "4  Afghanistan  1972    13079460      Asia    36.088  739.981"
      ]
     },
     "execution_count": 88,
     "metadata": {},
     "output_type": "execute_result"
    }
   ],
   "source": [
    "# visualizando as 5 primeiras linhas\n",
    "df.head()"
   ]
  },
  {
   "cell_type": "code",
   "execution_count": 89,
   "id": "074ff3e6",
   "metadata": {
    "hidden": true
   },
   "outputs": [
    {
     "name": "stdout",
     "output_type": "stream",
     "text": [
      "Valores únicos (por coluna):\n",
      "country        142\n",
      "year            12\n",
      "population    1704\n",
      "continent        5\n",
      "life_exp      1626\n",
      "gdp_cap       1704\n",
      "dtype: int64\n",
      "\n"
     ]
    }
   ],
   "source": [
    "# Exibindo os valores que são únicos de cada feature.\n",
    "print(\"Valores únicos (por coluna):\\n{}\\n\".format(df.nunique()))"
   ]
  },
  {
   "cell_type": "markdown",
   "id": "11522b99",
   "metadata": {
    "heading_collapsed": true,
    "hidden": true
   },
   "source": [
    "### Transformação e Manipulação\n",
    "<a id=\"ancora3.1\"></a>\n",
    "[voltar](#ancora)"
   ]
  },
  {
   "cell_type": "markdown",
   "id": "6d4a2a90",
   "metadata": {
    "hidden": true
   },
   "source": [
    "* **Alterando os tipos de dados para reduzir o uso de recursos computacionais.**"
   ]
  },
  {
   "cell_type": "code",
   "execution_count": 90,
   "id": "e7775ad6",
   "metadata": {
    "hidden": true
   },
   "outputs": [
    {
     "name": "stdout",
     "output_type": "stream",
     "text": [
      "<class 'pandas.core.frame.DataFrame'>\n",
      "RangeIndex: 1704 entries, 0 to 1703\n",
      "Data columns (total 6 columns):\n",
      " #   Column      Non-Null Count  Dtype  \n",
      "---  ------      --------------  -----  \n",
      " 0   country     1704 non-null   object \n",
      " 1   year        1704 non-null   int64  \n",
      " 2   population  1704 non-null   int64  \n",
      " 3   continent   1704 non-null   object \n",
      " 4   life_exp    1704 non-null   float64\n",
      " 5   gdp_cap     1704 non-null   float64\n",
      "dtypes: float64(2), int64(2), object(2)\n",
      "memory usage: 80.0+ KB\n"
     ]
    }
   ],
   "source": [
    "# informação do tipo, tamnanho e  verificação de dados nulos.\n",
    "df.info()"
   ]
  },
  {
   "cell_type": "code",
   "execution_count": 91,
   "id": "2d95c1d7",
   "metadata": {
    "hidden": true
   },
   "outputs": [
    {
     "name": "stdout",
     "output_type": "stream",
     "text": [
      "<class 'pandas.core.frame.DataFrame'>\n",
      "RangeIndex: 1704 entries, 0 to 1703\n",
      "Data columns (total 6 columns):\n",
      " #   Column      Non-Null Count  Dtype   \n",
      "---  ------      --------------  -----   \n",
      " 0   country     1704 non-null   category\n",
      " 1   year        1704 non-null   int64   \n",
      " 2   population  1704 non-null   int64   \n",
      " 3   continent   1704 non-null   category\n",
      " 4   life_exp    1704 non-null   float64 \n",
      " 5   gdp_cap     1704 non-null   float64 \n",
      "dtypes: category(2), float64(2), int64(2)\n",
      "memory usage: 63.8 KB\n"
     ]
    }
   ],
   "source": [
    "#Convertendo os dados tipo de object para categóricos\n",
    "df['country'] = df['country'].astype('category')\n",
    "df['continent'] = df['continent'].astype('category')\n",
    "df.info()"
   ]
  },
  {
   "cell_type": "markdown",
   "id": "e6c44e8f",
   "metadata": {
    "hidden": true
   },
   "source": [
    "* **O espaço em memória foi reduzido de 80 kb para 64.6 kb**\n",
    "* **Parece pouco, mas imaginem em um ambiente de produção com uma base na casa dos Terabytes, reduzir o tamanho do conjunto, certamente trará muitos benefícios, como redução de recursos computacionais e velocidade no processamento.**\n",
    "* **Agora podemos seguir a análise.**"
   ]
  },
  {
   "cell_type": "markdown",
   "id": "9a0e5658",
   "metadata": {
    "heading_collapsed": true,
    "hidden": true
   },
   "source": [
    "### Registros missing\n",
    "<a id=\"ancora3.3\"></a>\n",
    "[voltar](#ancora)"
   ]
  },
  {
   "cell_type": "code",
   "execution_count": 92,
   "id": "589e9a13",
   "metadata": {
    "hidden": true
   },
   "outputs": [
    {
     "data": {
      "text/plain": [
       "country       0\n",
       "year          0\n",
       "population    0\n",
       "continent     0\n",
       "life_exp      0\n",
       "gdp_cap       0\n",
       "dtype: int64"
      ]
     },
     "execution_count": 92,
     "metadata": {},
     "output_type": "execute_result"
    },
    {
     "data": {
      "image/png": "[encoded data removed]",
      "text/plain": [
       "<Figure size 576x288 with 1 Axes>"
      ]
     },
     "metadata": {
      "needs_background": "light"
     },
     "output_type": "display_data"
    }
   ],
   "source": [
    "# Conferindo se existem dados faltantes.\n",
    "missing.matrix(df, figsize = (8, 4), color = (0, 0.1, 0.25), sparkline = False);\n",
    "df.isnull().sum()"
   ]
  },
  {
   "cell_type": "markdown",
   "id": "2a304a42",
   "metadata": {
    "heading_collapsed": true
   },
   "source": [
    "## Análise Exploratória\n",
    "<a id=\"ancora4\"></a>"
   ]
  },
  {
   "cell_type": "markdown",
   "id": "c06ccd87",
   "metadata": {
    "heading_collapsed": true,
    "hidden": true
   },
   "source": [
    "### Existe alguma correlação do PIB com o aumento da expectativa de vida?\n",
    "<a id=\"ancora4.1\"></a>\n",
    "[voltar](#ancora)"
   ]
  },
  {
   "cell_type": "code",
   "execution_count": 343,
   "id": "7d8d46a7",
   "metadata": {
    "hidden": true
   },
   "outputs": [],
   "source": [
    "# função para plotar o gráfico do pib vs expectativa de vida.\n",
    "def pib_exp_life(year):\n",
    "    df_year = df[df['year']==year]\n",
    "    fig = df_year.iplot(x='gdp_cap',\n",
    "                  y='life_exp',\n",
    "                  categories='continent',\n",
    "                  title=f'PIB vs Expectativa de Vida de {year} por Continente',\n",
    "                  xTitle='PIB',\n",
    "                  yTitle='Expectativa de Vida')\n",
    "    return fig"
   ]
  },
  {
   "cell_type": "code",
   "execution_count": 290,
   "id": "b53dd8d6",
   "metadata": {
    "hidden": true,
    "scrolled": false
   },
   "outputs": [
    {
     "data": {
      "text/html": [
       "\n",
       "        <iframe\n",
       "            width=\"100%\"\n",
       "            height=\"525px\"\n",
       "            src=\"https://plotly.com/~jcnok/79.embed\"\n",
       "            frameborder=\"0\"\n",
       "            allowfullscreen\n",
       "            \n",
       "        ></iframe>\n",
       "        "
      ],
      "text/plain": [
       "<IPython.lib.display.IFrame at 0x1df69a3dd60>"
      ]
     },
     "execution_count": 290,
     "metadata": {},
     "output_type": "execute_result"
    }
   ],
   "source": [
    "#Pib vs expectativa de vida\n",
    "pib_exp_life(2007)"
   ]
  },
  {
   "cell_type": "markdown",
   "id": "81580abe",
   "metadata": {
    "hidden": true
   },
   "source": [
    "* **Existe uma correlação positiva entre o PIP e a expectativa de vida da população**;\n",
    "* **Conforme o PIP de um Continente cresce, a expectativa de vida aumenta**;"
   ]
  },
  {
   "cell_type": "code",
   "execution_count": null,
   "id": "63086df5",
   "metadata": {
    "hidden": true
   },
   "outputs": [],
   "source": [
    "### Existe correlação do PIB percapta com o crescimento da população?\n",
    "<a id=\"ancora4.2\"></a>\n",
    "[voltar](#ancora)"
   ]
  },
  {
   "cell_type": "code",
   "execution_count": 322,
   "id": "b04df622",
   "metadata": {
    "hidden": true
   },
   "outputs": [],
   "source": [
    "# função para plotar o gráfico do pib vs população.\n",
    "def pib_population(year):\n",
    "    df_year = df[df['year']==year]\n",
    "    fig = df_year.iplot(x='gdp_cap',\n",
    "                  y='population',\n",
    "                  categories='continent',\n",
    "                  title=f'PIB vs População de {year} por Continente',\n",
    "                  xTitle='PIB',\n",
    "                  yTitle='População')\n",
    "    return fig"
   ]
  },
  {
   "cell_type": "code",
   "execution_count": 325,
   "id": "705d3221",
   "metadata": {
    "hidden": true
   },
   "outputs": [
    {
     "data": {
      "text/html": [
       "\n",
       "        <iframe\n",
       "            width=\"100%\"\n",
       "            height=\"525px\"\n",
       "            src=\"https://plotly.com/~jcnok/149.embed\"\n",
       "            frameborder=\"0\"\n",
       "            allowfullscreen\n",
       "            \n",
       "        ></iframe>\n",
       "        "
      ],
      "text/plain": [
       "<IPython.lib.display.IFrame at 0x1df6b806c40>"
      ]
     },
     "execution_count": 325,
     "metadata": {},
     "output_type": "execute_result"
    }
   ],
   "source": [
    "pib_population(2007)"
   ]
  },
  {
   "cell_type": "markdown",
   "id": "00aac6df",
   "metadata": {
    "hidden": true
   },
   "source": [
    "* **Não há correlação significativa entre o crescimento do pib com a população**;"
   ]
  },
  {
   "cell_type": "code",
   "execution_count": null,
   "id": "145632a4",
   "metadata": {
    "hidden": true
   },
   "outputs": [],
   "source": [
    "### A medida que a população cresce a Expectativa de vida tabém aumenta?\n",
    "<a id=\"ancora4.3\"></a>\n",
    "[voltar](#ancora)"
   ]
  },
  {
   "cell_type": "code",
   "execution_count": 312,
   "id": "ff742ccd",
   "metadata": {
    "hidden": true
   },
   "outputs": [],
   "source": [
    "# função para plotar o gráfico do população vs expectativa de vida.\n",
    "def pop_exp_life(year):\n",
    "    df_year = df[df['year']==year]\n",
    "    fig = df_year.iplot(x='life_exp',\n",
    "                  y='population',\n",
    "                  categories='continent',\n",
    "                  title=f'Expectativa de Vida vs População de {year} por Continente',\n",
    "                  xTitle='População',\n",
    "                  yTitle='Expectativa de Vida')\n",
    "    return fig"
   ]
  },
  {
   "cell_type": "code",
   "execution_count": 307,
   "id": "a990747c",
   "metadata": {
    "hidden": true
   },
   "outputs": [
    {
     "data": {
      "text/html": [
       "\n",
       "        <iframe\n",
       "            width=\"100%\"\n",
       "            height=\"525px\"\n",
       "            src=\"https://plotly.com/~jcnok/145.embed\"\n",
       "            frameborder=\"0\"\n",
       "            allowfullscreen\n",
       "            \n",
       "        ></iframe>\n",
       "        "
      ],
      "text/plain": [
       "<IPython.lib.display.IFrame at 0x1df6ae94310>"
      ]
     },
     "execution_count": 307,
     "metadata": {},
     "output_type": "execute_result"
    }
   ],
   "source": [
    "pop_exp_life(2007)"
   ]
  },
  {
   "cell_type": "markdown",
   "id": "4e9ecdd8",
   "metadata": {
    "hidden": true
   },
   "source": [
    "* **A Asia foi o continente que mais cresceu em população**;\n",
    "* **A população não possui uma correlação significativa com a expectativa de vida.**;\n"
   ]
  },
  {
   "cell_type": "code",
   "execution_count": null,
   "id": "ba81a30a",
   "metadata": {
    "hidden": true
   },
   "outputs": [],
   "source": [
    "### Qual o continente com maior PIB per capita?\n",
    "<a id=\"ancora4.4\"></a>\n",
    "[voltar](#ancora)"
   ]
  },
  {
   "cell_type": "code",
   "execution_count": 319,
   "id": "98107876",
   "metadata": {
    "hidden": true
   },
   "outputs": [],
   "source": [
    "# Função para plot de barras do PIB por continente.\n",
    "def count_pib_content(year):\n",
    "    df_year = df[df['year']==year]\n",
    "    max_pib_cont = test.groupby('continent')[['continent','gdp_cap']].sum().sort_values('gdp_cap').T\n",
    "    fig = max_pib_cont.iplot(kind='bar',title=f'PIB por Continente de {year}')    \n",
    "    return fig\n",
    "    "
   ]
  },
  {
   "cell_type": "code",
   "execution_count": 329,
   "id": "8dd90226",
   "metadata": {
    "hidden": true
   },
   "outputs": [
    {
     "data": {
      "text/html": [
       "\n",
       "        <iframe\n",
       "            width=\"100%\"\n",
       "            height=\"525px\"\n",
       "            src=\"https://plotly.com/~jcnok/158.embed\"\n",
       "            frameborder=\"0\"\n",
       "            allowfullscreen\n",
       "            \n",
       "        ></iframe>\n",
       "        "
      ],
      "text/plain": [
       "<IPython.lib.display.IFrame at 0x1df6b697e20>"
      ]
     },
     "execution_count": 329,
     "metadata": {},
     "output_type": "execute_result"
    }
   ],
   "source": [
    "# Soma do PIB per Capita por Continent.\n",
    "count_pib_content(2007)"
   ]
  },
  {
   "cell_type": "markdown",
   "id": "e8a28703",
   "metadata": {
    "hidden": true
   },
   "source": [
    "* **A maior soma do PIB per capita em 2007 foi da Europa**;"
   ]
  },
  {
   "cell_type": "markdown",
   "id": "da464050",
   "metadata": {
    "heading_collapsed": true,
    "hidden": true
   },
   "source": [
    "### Quais os 5 Países com maior e menor PIB per capita em 2007?\n",
    "<a id=\"ancora4.2\"></a>\n",
    "[voltar](#ancora)"
   ]
  },
  {
   "cell_type": "code",
   "execution_count": 336,
   "id": "b505489b",
   "metadata": {
    "hidden": true
   },
   "outputs": [],
   "source": [
    "# função para 5 países com maior PIB por ano.\n",
    "def five_max_pib_country(year):\n",
    "    df_year = df[df['year']==year]\n",
    "    max = df_year[['country','gdp_cap']].sort_values('gdp_cap').tail().set_index('country').T    \n",
    "    fig = max.iplot(kind='bar',title=f'5 Países de menor PIB em {year}')\n",
    "    return fig"
   ]
  },
  {
   "cell_type": "code",
   "execution_count": 337,
   "id": "4d2e680f",
   "metadata": {
    "hidden": true,
    "scrolled": true
   },
   "outputs": [
    {
     "data": {
      "text/html": [
       "\n",
       "        <iframe\n",
       "            width=\"100%\"\n",
       "            height=\"525px\"\n",
       "            src=\"https://plotly.com/~jcnok/160.embed\"\n",
       "            frameborder=\"0\"\n",
       "            allowfullscreen\n",
       "            \n",
       "        ></iframe>\n",
       "        "
      ],
      "text/plain": [
       "<IPython.lib.display.IFrame at 0x1df671a0610>"
      ]
     },
     "execution_count": 337,
     "metadata": {},
     "output_type": "execute_result"
    }
   ],
   "source": [
    "# 5 maiores PIB per capita do Mundo por País em 2007\n",
    "five_max_pib_country(2007)"
   ]
  },
  {
   "cell_type": "code",
   "execution_count": 279,
   "id": "f6cada6f",
   "metadata": {
    "hidden": true
   },
   "outputs": [],
   "source": [
    "# função para 5 países com menor PIB por ano.\n",
    "def five_min_pib_country(year):\n",
    "    df_year = df[df['year']==year]\n",
    "    min = df_year[['country','gdp_cap']].sort_values('gdp_cap').head().set_index('country').T    \n",
    "    fig = min.iplot(kind='bar',title=f'5 Países de menor PIB em {year}')\n",
    "    return fig"
   ]
  },
  {
   "cell_type": "code",
   "execution_count": 338,
   "id": "2f5b6b89",
   "metadata": {
    "hidden": true,
    "scrolled": true
   },
   "outputs": [
    {
     "data": {
      "text/html": [
       "\n",
       "        <iframe\n",
       "            width=\"100%\"\n",
       "            height=\"525px\"\n",
       "            src=\"https://plotly.com/~jcnok/160.embed\"\n",
       "            frameborder=\"0\"\n",
       "            allowfullscreen\n",
       "            \n",
       "        ></iframe>\n",
       "        "
      ],
      "text/plain": [
       "<IPython.lib.display.IFrame at 0x1df673eb340>"
      ]
     },
     "execution_count": 338,
     "metadata": {},
     "output_type": "execute_result"
    }
   ],
   "source": [
    "#Menor PIB per Capita do mundo em 2007\n",
    "five_min_pib_country(2007)"
   ]
  },
  {
   "cell_type": "markdown",
   "id": "d3d591ac",
   "metadata": {
    "heading_collapsed": true,
    "hidden": true
   },
   "source": [
    "### Qual a expectativa de vida por continente no ano de 2007?\n",
    "<a id=\"ancora4.3\"></a>\n",
    "[voltar](#ancora)"
   ]
  },
  {
   "cell_type": "code",
   "execution_count": 311,
   "id": "94cafd7d",
   "metadata": {
    "hidden": true
   },
   "outputs": [],
   "source": [
    "# Função para plot de barras da expectativa de vida por continente.\n",
    "def count_life_exp_content(year):\n",
    "    df_year = df[df['year']==year]\n",
    "    max_life_exp_cont = df_year.groupby('continent')[['continent','life_exp']].mean().sort_values('life_exp').T\n",
    "    fig = max_life_exp_cont.iplot(kind='bar',title=f'Expectativa de vida por Continente de {year}')    \n",
    "    return fig\n",
    "    "
   ]
  },
  {
   "cell_type": "code",
   "execution_count": 301,
   "id": "f275021d",
   "metadata": {
    "hidden": true
   },
   "outputs": [
    {
     "data": {
      "text/html": [
       "\n",
       "        <iframe\n",
       "            width=\"100%\"\n",
       "            height=\"525px\"\n",
       "            src=\"https://plotly.com/~jcnok/130.embed\"\n",
       "            frameborder=\"0\"\n",
       "            allowfullscreen\n",
       "            \n",
       "        ></iframe>\n",
       "        "
      ],
      "text/plain": [
       "<IPython.lib.display.IFrame at 0x1df6af65730>"
      ]
     },
     "execution_count": 301,
     "metadata": {},
     "output_type": "execute_result"
    }
   ],
   "source": [
    "# Expectativa de vida por continente.\n",
    "count_life_exp_content(2007)"
   ]
  },
  {
   "cell_type": "markdown",
   "id": "24490b74",
   "metadata": {
    "hidden": true
   },
   "source": [
    "* **Oceania possui possui uma esperança de vida média de 80 anos em 2007**;\n",
    "* **A Africa é o continente com menor expectativa de vida com  média de 54 anos em 2007**;\n",
    "* **Comparando com os anos anteriores, podemos dizer que a expectativa de vida vem aumentando**;"
   ]
  },
  {
   "cell_type": "markdown",
   "id": "5f7dc58b",
   "metadata": {
    "heading_collapsed": true,
    "hidden": true
   },
   "source": [
    "### Informe os 5 Países com maior e menor expectativa de vida:\n",
    "<a id=\"ancora4.4\"></a>\n",
    "[voltar](#ancora)"
   ]
  },
  {
   "cell_type": "code",
   "execution_count": 304,
   "id": "bbcedf0c",
   "metadata": {
    "hidden": true
   },
   "outputs": [],
   "source": [
    "# função para 5 países com maior expectativa de vida por ano.\n",
    "def five_max_life_exp_country(year):\n",
    "    df_year = df[df['year']==year]\n",
    "    max = df_year[['country','life_exp']].sort_values('life_exp').tail().set_index('country').T    \n",
    "    fig = max.iplot(kind='bar',title=f'5 Países de menor Expectativa de Vida em {year}')\n",
    "    return fig"
   ]
  },
  {
   "cell_type": "code",
   "execution_count": 342,
   "id": "1390560d",
   "metadata": {
    "hidden": true
   },
   "outputs": [
    {
     "data": {
      "text/html": [
       "\n",
       "        <iframe\n",
       "            width=\"100%\"\n",
       "            height=\"525px\"\n",
       "            src=\"https://plotly.com/~jcnok/140.embed\"\n",
       "            frameborder=\"0\"\n",
       "            allowfullscreen\n",
       "            \n",
       "        ></iframe>\n",
       "        "
      ],
      "text/plain": [
       "<IPython.lib.display.IFrame at 0x1df66be2dc0>"
      ]
     },
     "execution_count": 342,
     "metadata": {},
     "output_type": "execute_result"
    }
   ],
   "source": [
    "# 5 países com maior expectativa de vida;\n",
    "five_max_life_exp_country(2007)"
   ]
  },
  {
   "cell_type": "markdown",
   "id": "ad4b2135",
   "metadata": {
    "hidden": true
   },
   "source": [
    "* **Japão, China, Iceland, Switzerland e Australia são os países com maior expectativa de vida em 2007**;\n",
    "* **Norway, Iceland, Netherlands, Sweden, Denmark são os países com maior expectativa de vida em 1952**;\n",
    "* **Somente Iceland permaneceu nesse ranking nesse período**;\n",
    "* **Houve um aumento significativo durante o período todo**;"
   ]
  },
  {
   "cell_type": "code",
   "execution_count": 282,
   "id": "1eecc1d1",
   "metadata": {
    "hidden": true
   },
   "outputs": [],
   "source": [
    "# função para 5 países com menor expectativa de vida por ano.\n",
    "def five_min_life_exp_country(year):\n",
    "    df_year = df[df['year']==year]\n",
    "    min = df_year[['country','life_exp']].sort_values('life_exp').head().set_index('country').T    \n",
    "    fig = min.iplot(kind='bar',title=f'5 Países de menor Expectativa de Vida em {year}')\n",
    "    return fig"
   ]
  },
  {
   "cell_type": "code",
   "execution_count": 339,
   "id": "7a1f2ffc",
   "metadata": {
    "hidden": true,
    "scrolled": true
   },
   "outputs": [
    {
     "data": {
      "text/html": [
       "\n",
       "        <iframe\n",
       "            width=\"100%\"\n",
       "            height=\"525px\"\n",
       "            src=\"https://plotly.com/~jcnok/140.embed\"\n",
       "            frameborder=\"0\"\n",
       "            allowfullscreen\n",
       "            \n",
       "        ></iframe>\n",
       "        "
      ],
      "text/plain": [
       "<IPython.lib.display.IFrame at 0x1df673ebca0>"
      ]
     },
     "execution_count": 339,
     "metadata": {},
     "output_type": "execute_result"
    }
   ],
   "source": [
    "# 5 países com menor expctativa de vida.\n",
    "five_min_life_exp_country(2007)"
   ]
  },
  {
   "cell_type": "markdown",
   "id": "2ccb40ad",
   "metadata": {
    "heading_collapsed": true,
    "hidden": true
   },
   "source": [
    "### Informe o total da população por Continente:\n",
    "<a id=\"ancora4.5\"></a>\n",
    "[voltar](#ancora)"
   ]
  },
  {
   "cell_type": "code",
   "execution_count": 283,
   "id": "01f9ec18",
   "metadata": {
    "hidden": true
   },
   "outputs": [],
   "source": [
    "# Função para plot de barras da população por ano.\n",
    "def count_pop_content(year):\n",
    "    df_year = df[df['year']==year]\n",
    "    max_pop_cont = test.groupby('continent')[['continent','population']].sum().sort_values('population').T\n",
    "    fig = max_pop_cont.iplot(kind='bar',title=f'População por Continente de {year}')    \n",
    "    return fig\n",
    "    "
   ]
  },
  {
   "cell_type": "code",
   "execution_count": 271,
   "id": "e92c6ce5",
   "metadata": {
    "hidden": true,
    "scrolled": true
   },
   "outputs": [
    {
     "data": {
      "text/html": [
       "\n",
       "        <iframe\n",
       "            width=\"100%\"\n",
       "            height=\"525px\"\n",
       "            src=\"https://plotly.com/~jcnok/122.embed\"\n",
       "            frameborder=\"0\"\n",
       "            allowfullscreen\n",
       "            \n",
       "        ></iframe>\n",
       "        "
      ],
      "text/plain": [
       "<IPython.lib.display.IFrame at 0x1df604096d0>"
      ]
     },
     "execution_count": 271,
     "metadata": {},
     "output_type": "execute_result"
    }
   ],
   "source": [
    "# Gráfico de barras população por continente.\n",
    "count_pop_content(2007)"
   ]
  },
  {
   "cell_type": "markdown",
   "id": "960e7618",
   "metadata": {
    "hidden": true
   },
   "source": [
    "* **A Asia é o continente com maior população**;"
   ]
  },
  {
   "cell_type": "markdown",
   "id": "47244a44",
   "metadata": {
    "heading_collapsed": true,
    "hidden": true
   },
   "source": [
    "### Quais os 5 países com maior e menor população em 2007?\n",
    "<a id=\"ancora4.6\"></a>\n",
    "[voltar](#ancora)"
   ]
  },
  {
   "cell_type": "code",
   "execution_count": 284,
   "id": "a777a504",
   "metadata": {
    "hidden": true
   },
   "outputs": [],
   "source": [
    "# função para 5 países com maior população por ano.\n",
    "def five_max_pop_country(year):\n",
    "    df_year = df[df['year']==year]\n",
    "    max = df_year[['country','population']].sort_values('population').tail().set_index('country').T    \n",
    "    fig = max.iplot(kind='bar',title=f'5 Países mais Populosos em {year}')    \n",
    "    return fig\n",
    "    "
   ]
  },
  {
   "cell_type": "code",
   "execution_count": 327,
   "id": "7d8d0711",
   "metadata": {
    "hidden": true
   },
   "outputs": [
    {
     "data": {
      "text/html": [
       "\n",
       "        <iframe\n",
       "            width=\"100%\"\n",
       "            height=\"525px\"\n",
       "            src=\"https://plotly.com/~jcnok/98.embed\"\n",
       "            frameborder=\"0\"\n",
       "            allowfullscreen\n",
       "            \n",
       "        ></iframe>\n",
       "        "
      ],
      "text/plain": [
       "<IPython.lib.display.IFrame at 0x1df6b6b2f70>"
      ]
     },
     "execution_count": 327,
     "metadata": {},
     "output_type": "execute_result"
    }
   ],
   "source": [
    "# 5 países mais populosos.\n",
    "five_max_pop_country(2007)"
   ]
  },
  {
   "cell_type": "markdown",
   "id": "7c2baaa0",
   "metadata": {
    "hidden": true
   },
   "source": [
    "* **China, Índia, US, Indonésia e Brasil são os 5 países mais populosos do mundo em 2007**;"
   ]
  },
  {
   "cell_type": "code",
   "execution_count": 285,
   "id": "a742f75e",
   "metadata": {
    "hidden": true
   },
   "outputs": [],
   "source": [
    "# função para 5 países com menor população por ano.\n",
    "def five_min_pop_country(year):\n",
    "    df_year = df[df['year']==year]\n",
    "    min = df_year[['country','population']].sort_values('population').head().set_index('country').T    \n",
    "    fig = min.iplot(kind='bar',title=f'5 Países menos Populosos em {year}')\n",
    "    return fig"
   ]
  },
  {
   "cell_type": "code",
   "execution_count": 340,
   "id": "b630bbc9",
   "metadata": {
    "hidden": true
   },
   "outputs": [
    {
     "data": {
      "text/html": [
       "\n",
       "        <iframe\n",
       "            width=\"100%\"\n",
       "            height=\"525px\"\n",
       "            src=\"https://plotly.com/~jcnok/104.embed\"\n",
       "            frameborder=\"0\"\n",
       "            allowfullscreen\n",
       "            \n",
       "        ></iframe>\n",
       "        "
      ],
      "text/plain": [
       "<IPython.lib.display.IFrame at 0x1df67ac4790>"
      ]
     },
     "execution_count": 340,
     "metadata": {},
     "output_type": "execute_result"
    }
   ],
   "source": [
    "# 5 países menos populosos;\n",
    "five_min_pop_country(2007)"
   ]
  },
  {
   "cell_type": "code",
   "execution_count": null,
   "id": "6d87a6f8",
   "metadata": {
    "hidden": true
   },
   "outputs": [],
   "source": []
  }
 ],
 "metadata": {
  "kernelspec": {
   "display_name": "Python 3 (ipykernel)",
   "language": "python",
   "name": "python3"
  },
  "language_info": {
   "codemirror_mode": {
    "name": "ipython",
    "version": 3
   },
   "file_extension": ".py",
   "mimetype": "text/x-python",
   "name": "python",
   "nbconvert_exporter": "python",
   "pygments_lexer": "ipython3",
   "version": "3.9.12"
  }
 },
 "nbformat": 4,
 "nbformat_minor": 5
}
